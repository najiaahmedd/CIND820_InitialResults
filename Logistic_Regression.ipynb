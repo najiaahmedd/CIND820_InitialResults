{
  "nbformat": 4,
  "nbformat_minor": 0,
  "metadata": {
    "colab": {
      "name": "Logistic Regression.ipynb",
      "provenance": [],
      "authorship_tag": "ABX9TyPtFoNhHWxOhT7j8eobv8Zq",
      "include_colab_link": true
    },
    "kernelspec": {
      "name": "ir",
      "display_name": "R"
    },
    "language_info": {
      "name": "R"
    }
  },
  "cells": [
    {
      "cell_type": "markdown",
      "metadata": {
        "id": "view-in-github",
        "colab_type": "text"
      },
      "source": [
        "<a href=\"https://colab.research.google.com/github/najiaahmedd/CIND820_InitialResults/blob/main/Logistic_Regression.ipynb\" target=\"_parent\"><img src=\"https://colab.research.google.com/assets/colab-badge.svg\" alt=\"Open In Colab\"/></a>"
      ]
    },
    {
      "cell_type": "code",
      "execution_count": 1,
      "metadata": {
        "id": "lbfVYRQ4J5ga"
      },
      "outputs": [],
      "source": [
        "data1<-read.csv(\"projectfiles.csv\")"
      ]
    },
    {
      "cell_type": "code",
      "source": [
        "install.packages(\"mice\")\n",
        "library(mice)"
      ],
      "metadata": {
        "colab": {
          "base_uri": "https://localhost:8080/"
        },
        "id": "jLkI7Nw-KONs",
        "outputId": "e599259d-10a8-4114-bc89-e76054afedcc"
      },
      "execution_count": 2,
      "outputs": [
        {
          "output_type": "stream",
          "name": "stderr",
          "text": [
            "Installing package into ‘/usr/local/lib/R/site-library’\n",
            "(as ‘lib’ is unspecified)\n",
            "\n",
            "\n",
            "Attaching package: ‘mice’\n",
            "\n",
            "\n",
            "The following object is masked from ‘package:stats’:\n",
            "\n",
            "    filter\n",
            "\n",
            "\n",
            "The following objects are masked from ‘package:base’:\n",
            "\n",
            "    cbind, rbind\n",
            "\n",
            "\n"
          ]
        }
      ]
    },
    {
      "cell_type": "code",
      "source": [
        "dataclean<-subset(data1, select = c(Year,Disaster.Group,Disaster.Subgroup, Disaster.Type, Disaster.Subtype, Country, Region, Total.Deaths, No.Injured, No.Affected, No.Homeless, Total.Affected, Total.Damages...000.US.., Reconstruction.Costs...000.US.., Insured.Damages...000.US..))\n",
        "dataclean1<-subset(data1, select = c(Year,Total.Deaths, No.Injured, No.Affected, No.Homeless, Total.Affected, Total.Damages...000.US.., Reconstruction.Costs...000.US.., Insured.Damages...000.US..))\n",
        "data2<-subset(dataclean, select = c(Year,Disaster.Group,Disaster.Subgroup, Disaster.Type, Disaster.Subtype, Country, Region, Total.Deaths, No.Injured, No.Homeless, Total.Affected, Total.Damages...000.US.., Reconstruction.Costs...000.US.., Insured.Damages...000.US..))\n",
        "data2$Year <- as.character(data2$Year)"
      ],
      "metadata": {
        "id": "FzPS0T0ZKQHl"
      },
      "execution_count": 3,
      "outputs": []
    },
    {
      "cell_type": "code",
      "source": [
        "imputedData<-mice (data2, m=6, maxit=50, meth='pmm', seed=600)"
      ],
      "metadata": {
        "colab": {
          "base_uri": "https://localhost:8080/"
        },
        "id": "yPaFKm3uKUOi",
        "outputId": "3cb2a4d7-3da2-451d-b5a2-00e0eb6d866e"
      },
      "execution_count": 4,
      "outputs": [
        {
          "output_type": "stream",
          "name": "stdout",
          "text": [
            "\n",
            " iter imp variable\n",
            "  1   1  Total.Deaths  No.Injured  No.Homeless  Total.Affected  Total.Damages...000.US..  Reconstruction.Costs...000.US..  Insured.Damages...000.US..\n",
            "  1   2  Total.Deaths  No.Injured  No.Homeless  Total.Affected  Total.Damages...000.US..  Reconstruction.Costs...000.US..  Insured.Damages...000.US..\n",
            "  1   3  Total.Deaths  No.Injured  No.Homeless  Total.Affected  Total.Damages...000.US..  Reconstruction.Costs...000.US..  Insured.Damages...000.US..\n",
            "  1   4  Total.Deaths  No.Injured  No.Homeless  Total.Affected  Total.Damages...000.US..  Reconstruction.Costs...000.US..  Insured.Damages...000.US..\n",
            "  1   5  Total.Deaths  No.Injured  No.Homeless  Total.Affected  Total.Damages...000.US..  Reconstruction.Costs...000.US..  Insured.Damages...000.US..\n",
            "  1   6  Total.Deaths  No.Injured  No.Homeless  Total.Affected  Total.Damages...000.US..  Reconstruction.Costs...000.US..  Insured.Damages...000.US..\n",
            "  2   1  Total.Deaths  No.Injured  No.Homeless  Total.Affected  Total.Damages...000.US..  Reconstruction.Costs...000.US..  Insured.Damages...000.US..\n",
            "  2   2  Total.Deaths  No.Injured  No.Homeless  Total.Affected  Total.Damages...000.US..  Reconstruction.Costs...000.US..  Insured.Damages...000.US..\n",
            "  2   3  Total.Deaths  No.Injured  No.Homeless  Total.Affected  Total.Damages...000.US..  Reconstruction.Costs...000.US..  Insured.Damages...000.US..\n",
            "  2   4  Total.Deaths  No.Injured  No.Homeless  Total.Affected  Total.Damages...000.US..  Reconstruction.Costs...000.US..  Insured.Damages...000.US..\n",
            "  2   5  Total.Deaths  No.Injured  No.Homeless  Total.Affected  Total.Damages...000.US..  Reconstruction.Costs...000.US..  Insured.Damages...000.US..\n",
            "  2   6  Total.Deaths  No.Injured  No.Homeless  Total.Affected  Total.Damages...000.US..  Reconstruction.Costs...000.US..  Insured.Damages...000.US..\n",
            "  3   1  Total.Deaths  No.Injured  No.Homeless  Total.Affected  Total.Damages...000.US..  Reconstruction.Costs...000.US..  Insured.Damages...000.US..\n",
            "  3   2  Total.Deaths  No.Injured  No.Homeless  Total.Affected  Total.Damages...000.US..  Reconstruction.Costs...000.US..  Insured.Damages...000.US..\n",
            "  3   3  Total.Deaths  No.Injured  No.Homeless  Total.Affected  Total.Damages...000.US..  Reconstruction.Costs...000.US..  Insured.Damages...000.US..\n",
            "  3   4  Total.Deaths  No.Injured  No.Homeless  Total.Affected  Total.Damages...000.US..  Reconstruction.Costs...000.US..  Insured.Damages...000.US..\n",
            "  3   5  Total.Deaths  No.Injured  No.Homeless  Total.Affected  Total.Damages...000.US..  Reconstruction.Costs...000.US..  Insured.Damages...000.US..\n",
            "  3   6  Total.Deaths  No.Injured  No.Homeless  Total.Affected  Total.Damages...000.US..  Reconstruction.Costs...000.US..  Insured.Damages...000.US..\n",
            "  4   1  Total.Deaths  No.Injured  No.Homeless  Total.Affected  Total.Damages...000.US..  Reconstruction.Costs...000.US..  Insured.Damages...000.US..\n",
            "  4   2  Total.Deaths  No.Injured  No.Homeless  Total.Affected  Total.Damages...000.US..  Reconstruction.Costs...000.US..  Insured.Damages...000.US..\n",
            "  4   3  Total.Deaths  No.Injured  No.Homeless  Total.Affected  Total.Damages...000.US..  Reconstruction.Costs...000.US..  Insured.Damages...000.US..\n",
            "  4   4  Total.Deaths  No.Injured  No.Homeless  Total.Affected  Total.Damages...000.US..  Reconstruction.Costs...000.US..  Insured.Damages...000.US..\n",
            "  4   5  Total.Deaths  No.Injured  No.Homeless  Total.Affected  Total.Damages...000.US..  Reconstruction.Costs...000.US..  Insured.Damages...000.US..\n",
            "  4   6  Total.Deaths  No.Injured  No.Homeless  Total.Affected  Total.Damages...000.US..  Reconstruction.Costs...000.US..  Insured.Damages...000.US..\n",
            "  5   1  Total.Deaths  No.Injured  No.Homeless  Total.Affected  Total.Damages...000.US..  Reconstruction.Costs...000.US..  Insured.Damages...000.US..\n",
            "  5   2  Total.Deaths  No.Injured  No.Homeless  Total.Affected  Total.Damages...000.US..  Reconstruction.Costs...000.US..  Insured.Damages...000.US..\n",
            "  5   3  Total.Deaths  No.Injured  No.Homeless  Total.Affected  Total.Damages...000.US..  Reconstruction.Costs...000.US..  Insured.Damages...000.US..\n",
            "  5   4  Total.Deaths  No.Injured  No.Homeless  Total.Affected  Total.Damages...000.US..  Reconstruction.Costs...000.US..  Insured.Damages...000.US..\n",
            "  5   5  Total.Deaths  No.Injured  No.Homeless  Total.Affected  Total.Damages...000.US..  Reconstruction.Costs...000.US..  Insured.Damages...000.US..\n",
            "  5   6  Total.Deaths  No.Injured  No.Homeless  Total.Affected  Total.Damages...000.US..  Reconstruction.Costs...000.US..  Insured.Damages...000.US..\n",
            "  6   1  Total.Deaths  No.Injured  No.Homeless  Total.Affected  Total.Damages...000.US..  Reconstruction.Costs...000.US..  Insured.Damages...000.US..\n",
            "  6   2  Total.Deaths  No.Injured  No.Homeless  Total.Affected  Total.Damages...000.US..  Reconstruction.Costs...000.US..  Insured.Damages...000.US..\n",
            "  6   3  Total.Deaths  No.Injured  No.Homeless  Total.Affected  Total.Damages...000.US..  Reconstruction.Costs...000.US..  Insured.Damages...000.US..\n",
            "  6   4  Total.Deaths  No.Injured  No.Homeless  Total.Affected  Total.Damages...000.US..  Reconstruction.Costs...000.US..  Insured.Damages...000.US..\n",
            "  6   5  Total.Deaths  No.Injured  No.Homeless  Total.Affected  Total.Damages...000.US..  Reconstruction.Costs...000.US..  Insured.Damages...000.US..\n",
            "  6   6  Total.Deaths  No.Injured  No.Homeless  Total.Affected  Total.Damages...000.US..  Reconstruction.Costs...000.US..  Insured.Damages...000.US..\n",
            "  7   1  Total.Deaths  No.Injured  No.Homeless  Total.Affected  Total.Damages...000.US..  Reconstruction.Costs...000.US..  Insured.Damages...000.US..\n",
            "  7   2  Total.Deaths  No.Injured  No.Homeless  Total.Affected  Total.Damages...000.US..  Reconstruction.Costs...000.US..  Insured.Damages...000.US..\n",
            "  7   3  Total.Deaths  No.Injured  No.Homeless  Total.Affected  Total.Damages...000.US..  Reconstruction.Costs...000.US..  Insured.Damages...000.US..\n",
            "  7   4  Total.Deaths  No.Injured  No.Homeless  Total.Affected  Total.Damages...000.US..  Reconstruction.Costs...000.US..  Insured.Damages...000.US..\n",
            "  7   5  Total.Deaths  No.Injured  No.Homeless  Total.Affected  Total.Damages...000.US..  Reconstruction.Costs...000.US..  Insured.Damages...000.US..\n",
            "  7   6  Total.Deaths  No.Injured  No.Homeless  Total.Affected  Total.Damages...000.US..  Reconstruction.Costs...000.US..  Insured.Damages...000.US..\n",
            "  8   1  Total.Deaths  No.Injured  No.Homeless  Total.Affected  Total.Damages...000.US..  Reconstruction.Costs...000.US..  Insured.Damages...000.US..\n",
            "  8   2  Total.Deaths  No.Injured  No.Homeless  Total.Affected  Total.Damages...000.US..  Reconstruction.Costs...000.US..  Insured.Damages...000.US..\n",
            "  8   3  Total.Deaths  No.Injured  No.Homeless  Total.Affected  Total.Damages...000.US..  Reconstruction.Costs...000.US..  Insured.Damages...000.US..\n",
            "  8   4  Total.Deaths  No.Injured  No.Homeless  Total.Affected  Total.Damages...000.US..  Reconstruction.Costs...000.US..  Insured.Damages...000.US..\n",
            "  8   5  Total.Deaths  No.Injured  No.Homeless  Total.Affected  Total.Damages...000.US..  Reconstruction.Costs...000.US..  Insured.Damages...000.US..\n",
            "  8   6  Total.Deaths  No.Injured  No.Homeless  Total.Affected  Total.Damages...000.US..  Reconstruction.Costs...000.US..  Insured.Damages...000.US..\n",
            "  9   1  Total.Deaths  No.Injured  No.Homeless  Total.Affected  Total.Damages...000.US..  Reconstruction.Costs...000.US..  Insured.Damages...000.US..\n",
            "  9   2  Total.Deaths  No.Injured  No.Homeless  Total.Affected  Total.Damages...000.US..  Reconstruction.Costs...000.US..  Insured.Damages...000.US..\n",
            "  9   3  Total.Deaths  No.Injured  No.Homeless  Total.Affected  Total.Damages...000.US..  Reconstruction.Costs...000.US..  Insured.Damages...000.US..\n",
            "  9   4  Total.Deaths  No.Injured  No.Homeless  Total.Affected  Total.Damages...000.US..  Reconstruction.Costs...000.US..  Insured.Damages...000.US..\n",
            "  9   5  Total.Deaths  No.Injured  No.Homeless  Total.Affected  Total.Damages...000.US..  Reconstruction.Costs...000.US..  Insured.Damages...000.US..\n",
            "  9   6  Total.Deaths  No.Injured  No.Homeless  Total.Affected  Total.Damages...000.US..  Reconstruction.Costs...000.US..  Insured.Damages...000.US..\n",
            "  10   1  Total.Deaths  No.Injured  No.Homeless  Total.Affected  Total.Damages...000.US..  Reconstruction.Costs...000.US..  Insured.Damages...000.US..\n",
            "  10   2  Total.Deaths  No.Injured  No.Homeless  Total.Affected  Total.Damages...000.US..  Reconstruction.Costs...000.US..  Insured.Damages...000.US..\n",
            "  10   3  Total.Deaths  No.Injured  No.Homeless  Total.Affected  Total.Damages...000.US..  Reconstruction.Costs...000.US..  Insured.Damages...000.US..\n",
            "  10   4  Total.Deaths  No.Injured  No.Homeless  Total.Affected  Total.Damages...000.US..  Reconstruction.Costs...000.US..  Insured.Damages...000.US..\n",
            "  10   5  Total.Deaths  No.Injured  No.Homeless  Total.Affected  Total.Damages...000.US..  Reconstruction.Costs...000.US..  Insured.Damages...000.US..\n",
            "  10   6  Total.Deaths  No.Injured  No.Homeless  Total.Affected  Total.Damages...000.US..  Reconstruction.Costs...000.US..  Insured.Damages...000.US..\n",
            "  11   1  Total.Deaths  No.Injured  No.Homeless  Total.Affected  Total.Damages...000.US..  Reconstruction.Costs...000.US..  Insured.Damages...000.US..\n",
            "  11   2  Total.Deaths  No.Injured  No.Homeless  Total.Affected  Total.Damages...000.US..  Reconstruction.Costs...000.US..  Insured.Damages...000.US..\n",
            "  11   3  Total.Deaths  No.Injured  No.Homeless  Total.Affected  Total.Damages...000.US..  Reconstruction.Costs...000.US..  Insured.Damages...000.US..\n",
            "  11   4  Total.Deaths  No.Injured  No.Homeless  Total.Affected  Total.Damages...000.US..  Reconstruction.Costs...000.US..  Insured.Damages...000.US..\n",
            "  11   5  Total.Deaths  No.Injured  No.Homeless  Total.Affected  Total.Damages...000.US..  Reconstruction.Costs...000.US..  Insured.Damages...000.US..\n",
            "  11   6  Total.Deaths  No.Injured  No.Homeless  Total.Affected  Total.Damages...000.US..  Reconstruction.Costs...000.US..  Insured.Damages...000.US..\n",
            "  12   1  Total.Deaths  No.Injured  No.Homeless  Total.Affected  Total.Damages...000.US..  Reconstruction.Costs...000.US..  Insured.Damages...000.US..\n",
            "  12   2  Total.Deaths  No.Injured  No.Homeless  Total.Affected  Total.Damages...000.US..  Reconstruction.Costs...000.US..  Insured.Damages...000.US..\n",
            "  12   3  Total.Deaths  No.Injured  No.Homeless  Total.Affected  Total.Damages...000.US..  Reconstruction.Costs...000.US..  Insured.Damages...000.US..\n",
            "  12   4  Total.Deaths  No.Injured  No.Homeless  Total.Affected  Total.Damages...000.US..  Reconstruction.Costs...000.US..  Insured.Damages...000.US..\n",
            "  12   5  Total.Deaths  No.Injured  No.Homeless  Total.Affected  Total.Damages...000.US..  Reconstruction.Costs...000.US..  Insured.Damages...000.US..\n",
            "  12   6  Total.Deaths  No.Injured  No.Homeless  Total.Affected  Total.Damages...000.US..  Reconstruction.Costs...000.US..  Insured.Damages...000.US..\n",
            "  13   1  Total.Deaths  No.Injured  No.Homeless  Total.Affected  Total.Damages...000.US..  Reconstruction.Costs...000.US..  Insured.Damages...000.US..\n",
            "  13   2  Total.Deaths  No.Injured  No.Homeless  Total.Affected  Total.Damages...000.US..  Reconstruction.Costs...000.US..  Insured.Damages...000.US..\n",
            "  13   3  Total.Deaths  No.Injured  No.Homeless  Total.Affected  Total.Damages...000.US..  Reconstruction.Costs...000.US..  Insured.Damages...000.US..\n",
            "  13   4  Total.Deaths  No.Injured  No.Homeless  Total.Affected  Total.Damages...000.US..  Reconstruction.Costs...000.US..  Insured.Damages...000.US..\n",
            "  13   5  Total.Deaths  No.Injured  No.Homeless  Total.Affected  Total.Damages...000.US..  Reconstruction.Costs...000.US..  Insured.Damages...000.US..\n",
            "  13   6  Total.Deaths  No.Injured  No.Homeless  Total.Affected  Total.Damages...000.US..  Reconstruction.Costs...000.US..  Insured.Damages...000.US..\n",
            "  14   1  Total.Deaths  No.Injured  No.Homeless  Total.Affected  Total.Damages...000.US..  Reconstruction.Costs...000.US..  Insured.Damages...000.US..\n",
            "  14   2  Total.Deaths  No.Injured  No.Homeless  Total.Affected  Total.Damages...000.US..  Reconstruction.Costs...000.US..  Insured.Damages...000.US..\n",
            "  14   3  Total.Deaths  No.Injured  No.Homeless  Total.Affected  Total.Damages...000.US..  Reconstruction.Costs...000.US..  Insured.Damages...000.US..\n",
            "  14   4  Total.Deaths  No.Injured  No.Homeless  Total.Affected  Total.Damages...000.US..  Reconstruction.Costs...000.US..  Insured.Damages...000.US..\n",
            "  14   5  Total.Deaths  No.Injured  No.Homeless  Total.Affected  Total.Damages...000.US..  Reconstruction.Costs...000.US..  Insured.Damages...000.US..\n",
            "  14   6  Total.Deaths  No.Injured  No.Homeless  Total.Affected  Total.Damages...000.US..  Reconstruction.Costs...000.US..  Insured.Damages...000.US..\n",
            "  15   1  Total.Deaths  No.Injured  No.Homeless  Total.Affected  Total.Damages...000.US..  Reconstruction.Costs...000.US..  Insured.Damages...000.US..\n",
            "  15   2  Total.Deaths  No.Injured  No.Homeless  Total.Affected  Total.Damages...000.US..  Reconstruction.Costs...000.US..  Insured.Damages...000.US..\n",
            "  15   3  Total.Deaths  No.Injured  No.Homeless  Total.Affected  Total.Damages...000.US..  Reconstruction.Costs...000.US..  Insured.Damages...000.US..\n",
            "  15   4  Total.Deaths  No.Injured  No.Homeless  Total.Affected  Total.Damages...000.US..  Reconstruction.Costs...000.US..  Insured.Damages...000.US..\n",
            "  15   5  Total.Deaths  No.Injured  No.Homeless  Total.Affected  Total.Damages...000.US..  Reconstruction.Costs...000.US..  Insured.Damages...000.US..\n",
            "  15   6  Total.Deaths  No.Injured  No.Homeless  Total.Affected  Total.Damages...000.US..  Reconstruction.Costs...000.US..  Insured.Damages...000.US..\n",
            "  16   1  Total.Deaths  No.Injured  No.Homeless  Total.Affected  Total.Damages...000.US..  Reconstruction.Costs...000.US..  Insured.Damages...000.US..\n",
            "  16   2  Total.Deaths  No.Injured  No.Homeless  Total.Affected  Total.Damages...000.US..  Reconstruction.Costs...000.US..  Insured.Damages...000.US..\n",
            "  16   3  Total.Deaths  No.Injured  No.Homeless  Total.Affected  Total.Damages...000.US..  Reconstruction.Costs...000.US..  Insured.Damages...000.US..\n",
            "  16   4  Total.Deaths  No.Injured  No.Homeless  Total.Affected  Total.Damages...000.US..  Reconstruction.Costs...000.US..  Insured.Damages...000.US..\n",
            "  16   5  Total.Deaths  No.Injured  No.Homeless  Total.Affected  Total.Damages...000.US..  Reconstruction.Costs...000.US..  Insured.Damages...000.US..\n",
            "  16   6  Total.Deaths  No.Injured  No.Homeless  Total.Affected  Total.Damages...000.US..  Reconstruction.Costs...000.US..  Insured.Damages...000.US..\n",
            "  17   1  Total.Deaths  No.Injured  No.Homeless  Total.Affected  Total.Damages...000.US..  Reconstruction.Costs...000.US..  Insured.Damages...000.US..\n",
            "  17   2  Total.Deaths  No.Injured  No.Homeless  Total.Affected  Total.Damages...000.US..  Reconstruction.Costs...000.US..  Insured.Damages...000.US..\n",
            "  17   3  Total.Deaths  No.Injured  No.Homeless  Total.Affected  Total.Damages...000.US..  Reconstruction.Costs...000.US..  Insured.Damages...000.US..\n",
            "  17   4  Total.Deaths  No.Injured  No.Homeless  Total.Affected  Total.Damages...000.US..  Reconstruction.Costs...000.US..  Insured.Damages...000.US..\n",
            "  17   5  Total.Deaths  No.Injured  No.Homeless  Total.Affected  Total.Damages...000.US..  Reconstruction.Costs...000.US..  Insured.Damages...000.US..\n",
            "  17   6  Total.Deaths  No.Injured  No.Homeless  Total.Affected  Total.Damages...000.US..  Reconstruction.Costs...000.US..  Insured.Damages...000.US..\n",
            "  18   1  Total.Deaths  No.Injured  No.Homeless  Total.Affected  Total.Damages...000.US..  Reconstruction.Costs...000.US..  Insured.Damages...000.US..\n",
            "  18   2  Total.Deaths  No.Injured  No.Homeless  Total.Affected  Total.Damages...000.US..  Reconstruction.Costs...000.US..  Insured.Damages...000.US..\n",
            "  18   3  Total.Deaths  No.Injured  No.Homeless  Total.Affected  Total.Damages...000.US..  Reconstruction.Costs...000.US..  Insured.Damages...000.US..\n",
            "  18   4  Total.Deaths  No.Injured  No.Homeless  Total.Affected  Total.Damages...000.US..  Reconstruction.Costs...000.US..  Insured.Damages...000.US..\n",
            "  18   5  Total.Deaths  No.Injured  No.Homeless  Total.Affected  Total.Damages...000.US..  Reconstruction.Costs...000.US..  Insured.Damages...000.US..\n",
            "  18   6  Total.Deaths  No.Injured  No.Homeless  Total.Affected  Total.Damages...000.US..  Reconstruction.Costs...000.US..  Insured.Damages...000.US..\n",
            "  19   1  Total.Deaths  No.Injured  No.Homeless  Total.Affected  Total.Damages...000.US..  Reconstruction.Costs...000.US..  Insured.Damages...000.US..\n",
            "  19   2  Total.Deaths  No.Injured  No.Homeless  Total.Affected  Total.Damages...000.US..  Reconstruction.Costs...000.US..  Insured.Damages...000.US..\n",
            "  19   3  Total.Deaths  No.Injured  No.Homeless  Total.Affected  Total.Damages...000.US..  Reconstruction.Costs...000.US..  Insured.Damages...000.US..\n",
            "  19   4  Total.Deaths  No.Injured  No.Homeless  Total.Affected  Total.Damages...000.US..  Reconstruction.Costs...000.US..  Insured.Damages...000.US..\n",
            "  19   5  Total.Deaths  No.Injured  No.Homeless  Total.Affected  Total.Damages...000.US..  Reconstruction.Costs...000.US..  Insured.Damages...000.US..\n",
            "  19   6  Total.Deaths  No.Injured  No.Homeless  Total.Affected  Total.Damages...000.US..  Reconstruction.Costs...000.US..  Insured.Damages...000.US..\n",
            "  20   1  Total.Deaths  No.Injured  No.Homeless  Total.Affected  Total.Damages...000.US..  Reconstruction.Costs...000.US..  Insured.Damages...000.US..\n",
            "  20   2  Total.Deaths  No.Injured  No.Homeless  Total.Affected  Total.Damages...000.US..  Reconstruction.Costs...000.US..  Insured.Damages...000.US..\n",
            "  20   3  Total.Deaths  No.Injured  No.Homeless  Total.Affected  Total.Damages...000.US..  Reconstruction.Costs...000.US..  Insured.Damages...000.US..\n",
            "  20   4  Total.Deaths  No.Injured  No.Homeless  Total.Affected  Total.Damages...000.US..  Reconstruction.Costs...000.US..  Insured.Damages...000.US..\n",
            "  20   5  Total.Deaths  No.Injured  No.Homeless  Total.Affected  Total.Damages...000.US..  Reconstruction.Costs...000.US..  Insured.Damages...000.US..\n",
            "  20   6  Total.Deaths  No.Injured  No.Homeless  Total.Affected  Total.Damages...000.US..  Reconstruction.Costs...000.US..  Insured.Damages...000.US..\n",
            "  21   1  Total.Deaths  No.Injured  No.Homeless  Total.Affected  Total.Damages...000.US..  Reconstruction.Costs...000.US..  Insured.Damages...000.US..\n",
            "  21   2  Total.Deaths  No.Injured  No.Homeless  Total.Affected  Total.Damages...000.US..  Reconstruction.Costs...000.US..  Insured.Damages...000.US..\n",
            "  21   3  Total.Deaths  No.Injured  No.Homeless  Total.Affected  Total.Damages...000.US..  Reconstruction.Costs...000.US..  Insured.Damages...000.US..\n",
            "  21   4  Total.Deaths  No.Injured  No.Homeless  Total.Affected  Total.Damages...000.US..  Reconstruction.Costs...000.US..  Insured.Damages...000.US..\n",
            "  21   5  Total.Deaths  No.Injured  No.Homeless  Total.Affected  Total.Damages...000.US..  Reconstruction.Costs...000.US..  Insured.Damages...000.US..\n",
            "  21   6  Total.Deaths  No.Injured  No.Homeless  Total.Affected  Total.Damages...000.US..  Reconstruction.Costs...000.US..  Insured.Damages...000.US..\n",
            "  22   1  Total.Deaths  No.Injured  No.Homeless  Total.Affected  Total.Damages...000.US..  Reconstruction.Costs...000.US..  Insured.Damages...000.US..\n",
            "  22   2  Total.Deaths  No.Injured  No.Homeless  Total.Affected  Total.Damages...000.US..  Reconstruction.Costs...000.US..  Insured.Damages...000.US..\n",
            "  22   3  Total.Deaths  No.Injured  No.Homeless  Total.Affected  Total.Damages...000.US..  Reconstruction.Costs...000.US..  Insured.Damages...000.US..\n",
            "  22   4  Total.Deaths  No.Injured  No.Homeless  Total.Affected  Total.Damages...000.US..  Reconstruction.Costs...000.US..  Insured.Damages...000.US..\n",
            "  22   5  Total.Deaths  No.Injured  No.Homeless  Total.Affected  Total.Damages...000.US..  Reconstruction.Costs...000.US..  Insured.Damages...000.US..\n",
            "  22   6  Total.Deaths  No.Injured  No.Homeless  Total.Affected  Total.Damages...000.US..  Reconstruction.Costs...000.US..  Insured.Damages...000.US..\n",
            "  23   1  Total.Deaths  No.Injured  No.Homeless  Total.Affected  Total.Damages...000.US..  Reconstruction.Costs...000.US..  Insured.Damages...000.US..\n",
            "  23   2  Total.Deaths  No.Injured  No.Homeless  Total.Affected  Total.Damages...000.US..  Reconstruction.Costs...000.US..  Insured.Damages...000.US..\n",
            "  23   3  Total.Deaths  No.Injured  No.Homeless  Total.Affected  Total.Damages...000.US..  Reconstruction.Costs...000.US..  Insured.Damages...000.US..\n",
            "  23   4  Total.Deaths  No.Injured  No.Homeless  Total.Affected  Total.Damages...000.US..  Reconstruction.Costs...000.US..  Insured.Damages...000.US..\n",
            "  23   5  Total.Deaths  No.Injured  No.Homeless  Total.Affected  Total.Damages...000.US..  Reconstruction.Costs...000.US..  Insured.Damages...000.US..\n",
            "  23   6  Total.Deaths  No.Injured  No.Homeless  Total.Affected  Total.Damages...000.US..  Reconstruction.Costs...000.US..  Insured.Damages...000.US..\n",
            "  24   1  Total.Deaths  No.Injured  No.Homeless  Total.Affected  Total.Damages...000.US..  Reconstruction.Costs...000.US..  Insured.Damages...000.US..\n",
            "  24   2  Total.Deaths  No.Injured  No.Homeless  Total.Affected  Total.Damages...000.US..  Reconstruction.Costs...000.US..  Insured.Damages...000.US..\n",
            "  24   3  Total.Deaths  No.Injured  No.Homeless  Total.Affected  Total.Damages...000.US..  Reconstruction.Costs...000.US..  Insured.Damages...000.US..\n",
            "  24   4  Total.Deaths  No.Injured  No.Homeless  Total.Affected  Total.Damages...000.US..  Reconstruction.Costs...000.US..  Insured.Damages...000.US..\n",
            "  24   5  Total.Deaths  No.Injured  No.Homeless  Total.Affected  Total.Damages...000.US..  Reconstruction.Costs...000.US..  Insured.Damages...000.US..\n",
            "  24   6  Total.Deaths  No.Injured  No.Homeless  Total.Affected  Total.Damages...000.US..  Reconstruction.Costs...000.US..  Insured.Damages...000.US..\n",
            "  25   1  Total.Deaths  No.Injured  No.Homeless  Total.Affected  Total.Damages...000.US..  Reconstruction.Costs...000.US..  Insured.Damages...000.US..\n",
            "  25   2  Total.Deaths  No.Injured  No.Homeless  Total.Affected  Total.Damages...000.US..  Reconstruction.Costs...000.US..  Insured.Damages...000.US..\n",
            "  25   3  Total.Deaths  No.Injured  No.Homeless  Total.Affected  Total.Damages...000.US..  Reconstruction.Costs...000.US..  Insured.Damages...000.US..\n",
            "  25   4  Total.Deaths  No.Injured  No.Homeless  Total.Affected  Total.Damages...000.US..  Reconstruction.Costs...000.US..  Insured.Damages...000.US..\n",
            "  25   5  Total.Deaths  No.Injured  No.Homeless  Total.Affected  Total.Damages...000.US..  Reconstruction.Costs...000.US..  Insured.Damages...000.US..\n",
            "  25   6  Total.Deaths  No.Injured  No.Homeless  Total.Affected  Total.Damages...000.US..  Reconstruction.Costs...000.US..  Insured.Damages...000.US..\n",
            "  26   1  Total.Deaths  No.Injured  No.Homeless  Total.Affected  Total.Damages...000.US..  Reconstruction.Costs...000.US..  Insured.Damages...000.US..\n",
            "  26   2  Total.Deaths  No.Injured  No.Homeless  Total.Affected  Total.Damages...000.US..  Reconstruction.Costs...000.US..  Insured.Damages...000.US..\n",
            "  26   3  Total.Deaths  No.Injured  No.Homeless  Total.Affected  Total.Damages...000.US..  Reconstruction.Costs...000.US..  Insured.Damages...000.US..\n",
            "  26   4  Total.Deaths  No.Injured  No.Homeless  Total.Affected  Total.Damages...000.US..  Reconstruction.Costs...000.US..  Insured.Damages...000.US..\n",
            "  26   5  Total.Deaths  No.Injured  No.Homeless  Total.Affected  Total.Damages...000.US..  Reconstruction.Costs...000.US..  Insured.Damages...000.US..\n",
            "  26   6  Total.Deaths  No.Injured  No.Homeless  Total.Affected  Total.Damages...000.US..  Reconstruction.Costs...000.US..  Insured.Damages...000.US..\n",
            "  27   1  Total.Deaths  No.Injured  No.Homeless  Total.Affected  Total.Damages...000.US..  Reconstruction.Costs...000.US..  Insured.Damages...000.US..\n",
            "  27   2  Total.Deaths  No.Injured  No.Homeless  Total.Affected  Total.Damages...000.US..  Reconstruction.Costs...000.US..  Insured.Damages...000.US..\n",
            "  27   3  Total.Deaths  No.Injured  No.Homeless  Total.Affected  Total.Damages...000.US..  Reconstruction.Costs...000.US..  Insured.Damages...000.US..\n",
            "  27   4  Total.Deaths  No.Injured  No.Homeless  Total.Affected  Total.Damages...000.US..  Reconstruction.Costs...000.US..  Insured.Damages...000.US..\n",
            "  27   5  Total.Deaths  No.Injured  No.Homeless  Total.Affected  Total.Damages...000.US..  Reconstruction.Costs...000.US..  Insured.Damages...000.US..\n",
            "  27   6  Total.Deaths  No.Injured  No.Homeless  Total.Affected  Total.Damages...000.US..  Reconstruction.Costs...000.US..  Insured.Damages...000.US..\n",
            "  28   1  Total.Deaths  No.Injured  No.Homeless  Total.Affected  Total.Damages...000.US..  Reconstruction.Costs...000.US..  Insured.Damages...000.US..\n",
            "  28   2  Total.Deaths  No.Injured  No.Homeless  Total.Affected  Total.Damages...000.US..  Reconstruction.Costs...000.US..  Insured.Damages...000.US..\n",
            "  28   3  Total.Deaths  No.Injured  No.Homeless  Total.Affected  Total.Damages...000.US..  Reconstruction.Costs...000.US..  Insured.Damages...000.US..\n",
            "  28   4  Total.Deaths  No.Injured  No.Homeless  Total.Affected  Total.Damages...000.US..  Reconstruction.Costs...000.US..  Insured.Damages...000.US..\n",
            "  28   5  Total.Deaths  No.Injured  No.Homeless  Total.Affected  Total.Damages...000.US..  Reconstruction.Costs...000.US..  Insured.Damages...000.US..\n",
            "  28   6  Total.Deaths  No.Injured  No.Homeless  Total.Affected  Total.Damages...000.US..  Reconstruction.Costs...000.US..  Insured.Damages...000.US..\n",
            "  29   1  Total.Deaths  No.Injured  No.Homeless  Total.Affected  Total.Damages...000.US..  Reconstruction.Costs...000.US..  Insured.Damages...000.US..\n",
            "  29   2  Total.Deaths  No.Injured  No.Homeless  Total.Affected  Total.Damages...000.US..  Reconstruction.Costs...000.US..  Insured.Damages...000.US..\n",
            "  29   3  Total.Deaths  No.Injured  No.Homeless  Total.Affected  Total.Damages...000.US..  Reconstruction.Costs...000.US..  Insured.Damages...000.US..\n",
            "  29   4  Total.Deaths  No.Injured  No.Homeless  Total.Affected  Total.Damages...000.US..  Reconstruction.Costs...000.US..  Insured.Damages...000.US..\n",
            "  29   5  Total.Deaths  No.Injured  No.Homeless  Total.Affected  Total.Damages...000.US..  Reconstruction.Costs...000.US..  Insured.Damages...000.US..\n",
            "  29   6  Total.Deaths  No.Injured  No.Homeless  Total.Affected  Total.Damages...000.US..  Reconstruction.Costs...000.US..  Insured.Damages...000.US..\n",
            "  30   1  Total.Deaths  No.Injured  No.Homeless  Total.Affected  Total.Damages...000.US..  Reconstruction.Costs...000.US..  Insured.Damages...000.US..\n",
            "  30   2  Total.Deaths  No.Injured  No.Homeless  Total.Affected  Total.Damages...000.US..  Reconstruction.Costs...000.US..  Insured.Damages...000.US..\n",
            "  30   3  Total.Deaths  No.Injured  No.Homeless  Total.Affected  Total.Damages...000.US..  Reconstruction.Costs...000.US..  Insured.Damages...000.US..\n",
            "  30   4  Total.Deaths  No.Injured  No.Homeless  Total.Affected  Total.Damages...000.US..  Reconstruction.Costs...000.US..  Insured.Damages...000.US..\n",
            "  30   5  Total.Deaths  No.Injured  No.Homeless  Total.Affected  Total.Damages...000.US..  Reconstruction.Costs...000.US..  Insured.Damages...000.US..\n",
            "  30   6  Total.Deaths  No.Injured  No.Homeless  Total.Affected  Total.Damages...000.US..  Reconstruction.Costs...000.US..  Insured.Damages...000.US..\n",
            "  31   1  Total.Deaths  No.Injured  No.Homeless  Total.Affected  Total.Damages...000.US..  Reconstruction.Costs...000.US..  Insured.Damages...000.US..\n",
            "  31   2  Total.Deaths  No.Injured  No.Homeless  Total.Affected  Total.Damages...000.US..  Reconstruction.Costs...000.US..  Insured.Damages...000.US..\n",
            "  31   3  Total.Deaths  No.Injured  No.Homeless  Total.Affected  Total.Damages...000.US..  Reconstruction.Costs...000.US..  Insured.Damages...000.US..\n",
            "  31   4  Total.Deaths  No.Injured  No.Homeless  Total.Affected  Total.Damages...000.US..  Reconstruction.Costs...000.US..  Insured.Damages...000.US..\n",
            "  31   5  Total.Deaths  No.Injured  No.Homeless  Total.Affected  Total.Damages...000.US..  Reconstruction.Costs...000.US..  Insured.Damages...000.US..\n",
            "  31   6  Total.Deaths  No.Injured  No.Homeless  Total.Affected  Total.Damages...000.US..  Reconstruction.Costs...000.US..  Insured.Damages...000.US..\n",
            "  32   1  Total.Deaths  No.Injured  No.Homeless  Total.Affected  Total.Damages...000.US..  Reconstruction.Costs...000.US..  Insured.Damages...000.US..\n",
            "  32   2  Total.Deaths  No.Injured  No.Homeless  Total.Affected  Total.Damages...000.US..  Reconstruction.Costs...000.US..  Insured.Damages...000.US..\n",
            "  32   3  Total.Deaths  No.Injured  No.Homeless  Total.Affected  Total.Damages...000.US..  Reconstruction.Costs...000.US..  Insured.Damages...000.US..\n",
            "  32   4  Total.Deaths  No.Injured  No.Homeless  Total.Affected  Total.Damages...000.US..  Reconstruction.Costs...000.US..  Insured.Damages...000.US..\n",
            "  32   5  Total.Deaths  No.Injured  No.Homeless  Total.Affected  Total.Damages...000.US..  Reconstruction.Costs...000.US..  Insured.Damages...000.US..\n",
            "  32   6  Total.Deaths  No.Injured  No.Homeless  Total.Affected  Total.Damages...000.US..  Reconstruction.Costs...000.US..  Insured.Damages...000.US..\n",
            "  33   1  Total.Deaths  No.Injured  No.Homeless  Total.Affected  Total.Damages...000.US..  Reconstruction.Costs...000.US..  Insured.Damages...000.US..\n",
            "  33   2  Total.Deaths  No.Injured  No.Homeless  Total.Affected  Total.Damages...000.US..  Reconstruction.Costs...000.US..  Insured.Damages...000.US..\n",
            "  33   3  Total.Deaths  No.Injured  No.Homeless  Total.Affected  Total.Damages...000.US..  Reconstruction.Costs...000.US..  Insured.Damages...000.US..\n",
            "  33   4  Total.Deaths  No.Injured  No.Homeless  Total.Affected  Total.Damages...000.US..  Reconstruction.Costs...000.US..  Insured.Damages...000.US..\n",
            "  33   5  Total.Deaths  No.Injured  No.Homeless  Total.Affected  Total.Damages...000.US..  Reconstruction.Costs...000.US..  Insured.Damages...000.US..\n",
            "  33   6  Total.Deaths  No.Injured  No.Homeless  Total.Affected  Total.Damages...000.US..  Reconstruction.Costs...000.US..  Insured.Damages...000.US..\n",
            "  34   1  Total.Deaths  No.Injured  No.Homeless  Total.Affected  Total.Damages...000.US..  Reconstruction.Costs...000.US..  Insured.Damages...000.US..\n",
            "  34   2  Total.Deaths  No.Injured  No.Homeless  Total.Affected  Total.Damages...000.US..  Reconstruction.Costs...000.US..  Insured.Damages...000.US..\n",
            "  34   3  Total.Deaths  No.Injured  No.Homeless  Total.Affected  Total.Damages...000.US..  Reconstruction.Costs...000.US..  Insured.Damages...000.US..\n",
            "  34   4  Total.Deaths  No.Injured  No.Homeless  Total.Affected  Total.Damages...000.US..  Reconstruction.Costs...000.US..  Insured.Damages...000.US..\n",
            "  34   5  Total.Deaths  No.Injured  No.Homeless  Total.Affected  Total.Damages...000.US..  Reconstruction.Costs...000.US..  Insured.Damages...000.US..\n",
            "  34   6  Total.Deaths  No.Injured  No.Homeless  Total.Affected  Total.Damages...000.US..  Reconstruction.Costs...000.US..  Insured.Damages...000.US..\n",
            "  35   1  Total.Deaths  No.Injured  No.Homeless  Total.Affected  Total.Damages...000.US..  Reconstruction.Costs...000.US..  Insured.Damages...000.US..\n",
            "  35   2  Total.Deaths  No.Injured  No.Homeless  Total.Affected  Total.Damages...000.US..  Reconstruction.Costs...000.US..  Insured.Damages...000.US..\n",
            "  35   3  Total.Deaths  No.Injured  No.Homeless  Total.Affected  Total.Damages...000.US..  Reconstruction.Costs...000.US..  Insured.Damages...000.US..\n",
            "  35   4  Total.Deaths  No.Injured  No.Homeless  Total.Affected  Total.Damages...000.US..  Reconstruction.Costs...000.US..  Insured.Damages...000.US..\n",
            "  35   5  Total.Deaths  No.Injured  No.Homeless  Total.Affected  Total.Damages...000.US..  Reconstruction.Costs...000.US..  Insured.Damages...000.US..\n",
            "  35   6  Total.Deaths  No.Injured  No.Homeless  Total.Affected  Total.Damages...000.US..  Reconstruction.Costs...000.US..  Insured.Damages...000.US..\n",
            "  36   1  Total.Deaths  No.Injured  No.Homeless  Total.Affected  Total.Damages...000.US..  Reconstruction.Costs...000.US..  Insured.Damages...000.US..\n",
            "  36   2  Total.Deaths  No.Injured  No.Homeless  Total.Affected  Total.Damages...000.US..  Reconstruction.Costs...000.US..  Insured.Damages...000.US..\n",
            "  36   3  Total.Deaths  No.Injured  No.Homeless  Total.Affected  Total.Damages...000.US..  Reconstruction.Costs...000.US..  Insured.Damages...000.US..\n",
            "  36   4  Total.Deaths  No.Injured  No.Homeless  Total.Affected  Total.Damages...000.US..  Reconstruction.Costs...000.US..  Insured.Damages...000.US..\n",
            "  36   5  Total.Deaths  No.Injured  No.Homeless  Total.Affected  Total.Damages...000.US..  Reconstruction.Costs...000.US..  Insured.Damages...000.US..\n",
            "  36   6  Total.Deaths  No.Injured  No.Homeless  Total.Affected  Total.Damages...000.US..  Reconstruction.Costs...000.US..  Insured.Damages...000.US..\n",
            "  37   1  Total.Deaths  No.Injured  No.Homeless  Total.Affected  Total.Damages...000.US..  Reconstruction.Costs...000.US..  Insured.Damages...000.US..\n",
            "  37   2  Total.Deaths  No.Injured  No.Homeless  Total.Affected  Total.Damages...000.US..  Reconstruction.Costs...000.US..  Insured.Damages...000.US..\n",
            "  37   3  Total.Deaths  No.Injured  No.Homeless  Total.Affected  Total.Damages...000.US..  Reconstruction.Costs...000.US..  Insured.Damages...000.US..\n",
            "  37   4  Total.Deaths  No.Injured  No.Homeless  Total.Affected  Total.Damages...000.US..  Reconstruction.Costs...000.US..  Insured.Damages...000.US..\n",
            "  37   5  Total.Deaths  No.Injured  No.Homeless  Total.Affected  Total.Damages...000.US..  Reconstruction.Costs...000.US..  Insured.Damages...000.US..\n",
            "  37   6  Total.Deaths  No.Injured  No.Homeless  Total.Affected  Total.Damages...000.US..  Reconstruction.Costs...000.US..  Insured.Damages...000.US..\n",
            "  38   1  Total.Deaths  No.Injured  No.Homeless  Total.Affected  Total.Damages...000.US..  Reconstruction.Costs...000.US..  Insured.Damages...000.US..\n",
            "  38   2  Total.Deaths  No.Injured  No.Homeless  Total.Affected  Total.Damages...000.US..  Reconstruction.Costs...000.US..  Insured.Damages...000.US..\n",
            "  38   3  Total.Deaths  No.Injured  No.Homeless  Total.Affected  Total.Damages...000.US..  Reconstruction.Costs...000.US..  Insured.Damages...000.US..\n",
            "  38   4  Total.Deaths  No.Injured  No.Homeless  Total.Affected  Total.Damages...000.US..  Reconstruction.Costs...000.US..  Insured.Damages...000.US..\n",
            "  38   5  Total.Deaths  No.Injured  No.Homeless  Total.Affected  Total.Damages...000.US..  Reconstruction.Costs...000.US..  Insured.Damages...000.US..\n",
            "  38   6  Total.Deaths  No.Injured  No.Homeless  Total.Affected  Total.Damages...000.US..  Reconstruction.Costs...000.US..  Insured.Damages...000.US..\n",
            "  39   1  Total.Deaths  No.Injured  No.Homeless  Total.Affected  Total.Damages...000.US..  Reconstruction.Costs...000.US..  Insured.Damages...000.US..\n",
            "  39   2  Total.Deaths  No.Injured  No.Homeless  Total.Affected  Total.Damages...000.US..  Reconstruction.Costs...000.US..  Insured.Damages...000.US..\n",
            "  39   3  Total.Deaths  No.Injured  No.Homeless  Total.Affected  Total.Damages...000.US..  Reconstruction.Costs...000.US..  Insured.Damages...000.US..\n",
            "  39   4  Total.Deaths  No.Injured  No.Homeless  Total.Affected  Total.Damages...000.US..  Reconstruction.Costs...000.US..  Insured.Damages...000.US..\n",
            "  39   5  Total.Deaths  No.Injured  No.Homeless  Total.Affected  Total.Damages...000.US..  Reconstruction.Costs...000.US..  Insured.Damages...000.US..\n",
            "  39   6  Total.Deaths  No.Injured  No.Homeless  Total.Affected  Total.Damages...000.US..  Reconstruction.Costs...000.US..  Insured.Damages...000.US..\n",
            "  40   1  Total.Deaths  No.Injured  No.Homeless  Total.Affected  Total.Damages...000.US..  Reconstruction.Costs...000.US..  Insured.Damages...000.US..\n",
            "  40   2  Total.Deaths  No.Injured  No.Homeless  Total.Affected  Total.Damages...000.US..  Reconstruction.Costs...000.US..  Insured.Damages...000.US..\n",
            "  40   3  Total.Deaths  No.Injured  No.Homeless  Total.Affected  Total.Damages...000.US..  Reconstruction.Costs...000.US..  Insured.Damages...000.US..\n",
            "  40   4  Total.Deaths  No.Injured  No.Homeless  Total.Affected  Total.Damages...000.US..  Reconstruction.Costs...000.US..  Insured.Damages...000.US..\n",
            "  40   5  Total.Deaths  No.Injured  No.Homeless  Total.Affected  Total.Damages...000.US..  Reconstruction.Costs...000.US..  Insured.Damages...000.US..\n",
            "  40   6  Total.Deaths  No.Injured  No.Homeless  Total.Affected  Total.Damages...000.US..  Reconstruction.Costs...000.US..  Insured.Damages...000.US..\n",
            "  41   1  Total.Deaths  No.Injured  No.Homeless  Total.Affected  Total.Damages...000.US..  Reconstruction.Costs...000.US..  Insured.Damages...000.US..\n",
            "  41   2  Total.Deaths  No.Injured  No.Homeless  Total.Affected  Total.Damages...000.US..  Reconstruction.Costs...000.US..  Insured.Damages...000.US..\n",
            "  41   3  Total.Deaths  No.Injured  No.Homeless  Total.Affected  Total.Damages...000.US..  Reconstruction.Costs...000.US..  Insured.Damages...000.US..\n",
            "  41   4  Total.Deaths  No.Injured  No.Homeless  Total.Affected  Total.Damages...000.US..  Reconstruction.Costs...000.US..  Insured.Damages...000.US..\n",
            "  41   5  Total.Deaths  No.Injured  No.Homeless  Total.Affected  Total.Damages...000.US..  Reconstruction.Costs...000.US..  Insured.Damages...000.US..\n",
            "  41   6  Total.Deaths  No.Injured  No.Homeless  Total.Affected  Total.Damages...000.US..  Reconstruction.Costs...000.US..  Insured.Damages...000.US..\n",
            "  42   1  Total.Deaths  No.Injured  No.Homeless  Total.Affected  Total.Damages...000.US..  Reconstruction.Costs...000.US..  Insured.Damages...000.US..\n",
            "  42   2  Total.Deaths  No.Injured  No.Homeless  Total.Affected  Total.Damages...000.US..  Reconstruction.Costs...000.US..  Insured.Damages...000.US..\n",
            "  42   3  Total.Deaths  No.Injured  No.Homeless  Total.Affected  Total.Damages...000.US..  Reconstruction.Costs...000.US..  Insured.Damages...000.US..\n",
            "  42   4  Total.Deaths  No.Injured  No.Homeless  Total.Affected  Total.Damages...000.US..  Reconstruction.Costs...000.US..  Insured.Damages...000.US..\n",
            "  42   5  Total.Deaths  No.Injured  No.Homeless  Total.Affected  Total.Damages...000.US..  Reconstruction.Costs...000.US..  Insured.Damages...000.US..\n",
            "  42   6  Total.Deaths  No.Injured  No.Homeless  Total.Affected  Total.Damages...000.US..  Reconstruction.Costs...000.US..  Insured.Damages...000.US..\n",
            "  43   1  Total.Deaths  No.Injured  No.Homeless  Total.Affected  Total.Damages...000.US..  Reconstruction.Costs...000.US..  Insured.Damages...000.US..\n",
            "  43   2  Total.Deaths  No.Injured  No.Homeless  Total.Affected  Total.Damages...000.US..  Reconstruction.Costs...000.US..  Insured.Damages...000.US..\n",
            "  43   3  Total.Deaths  No.Injured  No.Homeless  Total.Affected  Total.Damages...000.US..  Reconstruction.Costs...000.US..  Insured.Damages...000.US..\n",
            "  43   4  Total.Deaths  No.Injured  No.Homeless  Total.Affected  Total.Damages...000.US..  Reconstruction.Costs...000.US..  Insured.Damages...000.US..\n",
            "  43   5  Total.Deaths  No.Injured  No.Homeless  Total.Affected  Total.Damages...000.US..  Reconstruction.Costs...000.US..  Insured.Damages...000.US..\n",
            "  43   6  Total.Deaths  No.Injured  No.Homeless  Total.Affected  Total.Damages...000.US..  Reconstruction.Costs...000.US..  Insured.Damages...000.US..\n",
            "  44   1  Total.Deaths  No.Injured  No.Homeless  Total.Affected  Total.Damages...000.US..  Reconstruction.Costs...000.US..  Insured.Damages...000.US..\n",
            "  44   2  Total.Deaths  No.Injured  No.Homeless  Total.Affected  Total.Damages...000.US..  Reconstruction.Costs...000.US..  Insured.Damages...000.US..\n",
            "  44   3  Total.Deaths  No.Injured  No.Homeless  Total.Affected  Total.Damages...000.US..  Reconstruction.Costs...000.US..  Insured.Damages...000.US..\n",
            "  44   4  Total.Deaths  No.Injured  No.Homeless  Total.Affected  Total.Damages...000.US..  Reconstruction.Costs...000.US..  Insured.Damages...000.US..\n",
            "  44   5  Total.Deaths  No.Injured  No.Homeless  Total.Affected  Total.Damages...000.US..  Reconstruction.Costs...000.US..  Insured.Damages...000.US..\n",
            "  44   6  Total.Deaths  No.Injured  No.Homeless  Total.Affected  Total.Damages...000.US..  Reconstruction.Costs...000.US..  Insured.Damages...000.US..\n",
            "  45   1  Total.Deaths  No.Injured  No.Homeless  Total.Affected  Total.Damages...000.US..  Reconstruction.Costs...000.US..  Insured.Damages...000.US..\n",
            "  45   2  Total.Deaths  No.Injured  No.Homeless  Total.Affected  Total.Damages...000.US..  Reconstruction.Costs...000.US..  Insured.Damages...000.US..\n",
            "  45   3  Total.Deaths  No.Injured  No.Homeless  Total.Affected  Total.Damages...000.US..  Reconstruction.Costs...000.US..  Insured.Damages...000.US..\n",
            "  45   4  Total.Deaths  No.Injured  No.Homeless  Total.Affected  Total.Damages...000.US..  Reconstruction.Costs...000.US..  Insured.Damages...000.US..\n",
            "  45   5  Total.Deaths  No.Injured  No.Homeless  Total.Affected  Total.Damages...000.US..  Reconstruction.Costs...000.US..  Insured.Damages...000.US..\n",
            "  45   6  Total.Deaths  No.Injured  No.Homeless  Total.Affected  Total.Damages...000.US..  Reconstruction.Costs...000.US..  Insured.Damages...000.US..\n",
            "  46   1  Total.Deaths  No.Injured  No.Homeless  Total.Affected  Total.Damages...000.US..  Reconstruction.Costs...000.US..  Insured.Damages...000.US..\n",
            "  46   2  Total.Deaths  No.Injured  No.Homeless  Total.Affected  Total.Damages...000.US..  Reconstruction.Costs...000.US..  Insured.Damages...000.US..\n",
            "  46   3  Total.Deaths  No.Injured  No.Homeless  Total.Affected  Total.Damages...000.US..  Reconstruction.Costs...000.US..  Insured.Damages...000.US..\n",
            "  46   4  Total.Deaths  No.Injured  No.Homeless  Total.Affected  Total.Damages...000.US..  Reconstruction.Costs...000.US..  Insured.Damages...000.US..\n",
            "  46   5  Total.Deaths  No.Injured  No.Homeless  Total.Affected  Total.Damages...000.US..  Reconstruction.Costs...000.US..  Insured.Damages...000.US..\n",
            "  46   6  Total.Deaths  No.Injured  No.Homeless  Total.Affected  Total.Damages...000.US..  Reconstruction.Costs...000.US..  Insured.Damages...000.US..\n",
            "  47   1  Total.Deaths  No.Injured  No.Homeless  Total.Affected  Total.Damages...000.US..  Reconstruction.Costs...000.US..  Insured.Damages...000.US..\n",
            "  47   2  Total.Deaths  No.Injured  No.Homeless  Total.Affected  Total.Damages...000.US..  Reconstruction.Costs...000.US..  Insured.Damages...000.US..\n",
            "  47   3  Total.Deaths  No.Injured  No.Homeless  Total.Affected  Total.Damages...000.US..  Reconstruction.Costs...000.US..  Insured.Damages...000.US..\n",
            "  47   4  Total.Deaths  No.Injured  No.Homeless  Total.Affected  Total.Damages...000.US..  Reconstruction.Costs...000.US..  Insured.Damages...000.US..\n",
            "  47   5  Total.Deaths  No.Injured  No.Homeless  Total.Affected  Total.Damages...000.US..  Reconstruction.Costs...000.US..  Insured.Damages...000.US..\n",
            "  47   6  Total.Deaths  No.Injured  No.Homeless  Total.Affected  Total.Damages...000.US..  Reconstruction.Costs...000.US..  Insured.Damages...000.US..\n",
            "  48   1  Total.Deaths  No.Injured  No.Homeless  Total.Affected  Total.Damages...000.US..  Reconstruction.Costs...000.US..  Insured.Damages...000.US..\n",
            "  48   2  Total.Deaths  No.Injured  No.Homeless  Total.Affected  Total.Damages...000.US..  Reconstruction.Costs...000.US..  Insured.Damages...000.US..\n",
            "  48   3  Total.Deaths  No.Injured  No.Homeless  Total.Affected  Total.Damages...000.US..  Reconstruction.Costs...000.US..  Insured.Damages...000.US..\n",
            "  48   4  Total.Deaths  No.Injured  No.Homeless  Total.Affected  Total.Damages...000.US..  Reconstruction.Costs...000.US..  Insured.Damages...000.US..\n",
            "  48   5  Total.Deaths  No.Injured  No.Homeless  Total.Affected  Total.Damages...000.US..  Reconstruction.Costs...000.US..  Insured.Damages...000.US..\n",
            "  48   6  Total.Deaths  No.Injured  No.Homeless  Total.Affected  Total.Damages...000.US..  Reconstruction.Costs...000.US..  Insured.Damages...000.US..\n",
            "  49   1  Total.Deaths  No.Injured  No.Homeless  Total.Affected  Total.Damages...000.US..  Reconstruction.Costs...000.US..  Insured.Damages...000.US..\n",
            "  49   2  Total.Deaths  No.Injured  No.Homeless  Total.Affected  Total.Damages...000.US..  Reconstruction.Costs...000.US..  Insured.Damages...000.US..\n",
            "  49   3  Total.Deaths  No.Injured  No.Homeless  Total.Affected  Total.Damages...000.US..  Reconstruction.Costs...000.US..  Insured.Damages...000.US..\n",
            "  49   4  Total.Deaths  No.Injured  No.Homeless  Total.Affected  Total.Damages...000.US..  Reconstruction.Costs...000.US..  Insured.Damages...000.US..\n",
            "  49   5  Total.Deaths  No.Injured  No.Homeless  Total.Affected  Total.Damages...000.US..  Reconstruction.Costs...000.US..  Insured.Damages...000.US..\n",
            "  49   6  Total.Deaths  No.Injured  No.Homeless  Total.Affected  Total.Damages...000.US..  Reconstruction.Costs...000.US..  Insured.Damages...000.US..\n",
            "  50   1  Total.Deaths  No.Injured  No.Homeless  Total.Affected  Total.Damages...000.US..  Reconstruction.Costs...000.US..  Insured.Damages...000.US..\n",
            "  50   2  Total.Deaths  No.Injured  No.Homeless  Total.Affected  Total.Damages...000.US..  Reconstruction.Costs...000.US..  Insured.Damages...000.US..\n",
            "  50   3  Total.Deaths  No.Injured  No.Homeless  Total.Affected  Total.Damages...000.US..  Reconstruction.Costs...000.US..  Insured.Damages...000.US..\n",
            "  50   4  Total.Deaths  No.Injured  No.Homeless  Total.Affected  Total.Damages...000.US..  Reconstruction.Costs...000.US..  Insured.Damages...000.US..\n",
            "  50   5  Total.Deaths  No.Injured  No.Homeless  Total.Affected  Total.Damages...000.US..  Reconstruction.Costs...000.US..  Insured.Damages...000.US..\n",
            "  50   6  Total.Deaths  No.Injured  No.Homeless  Total.Affected  Total.Damages...000.US..  Reconstruction.Costs...000.US..  Insured.Damages...000.US..\n"
          ]
        },
        {
          "output_type": "stream",
          "name": "stderr",
          "text": [
            "Warning message:\n",
            "“Number of logged events: 47”\n"
          ]
        }
      ]
    },
    {
      "cell_type": "code",
      "source": [
        "completedata<-complete(imputedData, 1)\n",
        "completedata$Year <- as.integer(completedata$Year)\n",
        "completedata$Region <- as.factor(completedata$Region)\n",
        "completedata$Disaster.Type <- as.factor(completedata$Disaster.Type)\n",
        "completedata$Disaster.Subtype <- as.factor(completedata$Disaster.Subtype)\n",
        "completedata$Disaster.Subgroup <- as.factor(completedata$Disaster.Subgroup)\n",
        "completedata$Country <- as.factor(completedata$Country)\n",
        "##dropping Disaster.Subtype to avoid NAs\n",
        "complete2<-subset(completedata, select = c(Disaster.Subgroup, Disaster.Type, Country, Region, Total.Deaths, No.Injured, No.Homeless, Total.Affected, Total.Damages...000.US.., Reconstruction.Costs...000.US.., Insured.Damages...000.US..))\n",
        "\n",
        "head(complete2)"
      ],
      "metadata": {
        "colab": {
          "base_uri": "https://localhost:8080/",
          "height": 428
        },
        "id": "IkPnYjidKZHg",
        "outputId": "f036425e-a0eb-4a2a-bba0-200c07cedc0a"
      },
      "execution_count": 5,
      "outputs": [
        {
          "output_type": "display_data",
          "data": {
            "text/plain": [
              "  Disaster.Subgroup Disaster.Type Country    Region                   \n",
              "1 Hydrological      Flood         Argentina  South America            \n",
              "2 Meteorological    Storm         Australia  Australia and New Zealand\n",
              "3 Hydrological      Flood         Benin      Western Africa           \n",
              "4 Meteorological    Storm         Bangladesh Southern Asia            \n",
              "5 Meteorological    Storm         Bangladesh Southern Asia            \n",
              "6 Hydrological      Flood         Bangladesh Southern Asia            \n",
              "  Total.Deaths No.Injured No.Homeless Total.Affected Total.Damages...000.US..\n",
              "1     36          200      26923           423        25000                  \n",
              "2     13            1        200         35020        72475                  \n",
              "3      9           26        826           450          200                  \n",
              "4 300000         5933     300000       3648000        86400                  \n",
              "5     17           12         75           110       210000                  \n",
              "6   6908       155715     125000      10000000        25000                  \n",
              "  Reconstruction.Costs...000.US.. Insured.Damages...000.US..\n",
              "1  194000                          10000                    \n",
              "2    1510                          60000                    \n",
              "3  150000                          60000                    \n",
              "4  194000                         115000                    \n",
              "5  194000                         200500                    \n",
              "6 9450000                         400000                    "
            ],
            "text/latex": "A data.frame: 6 × 11\n\\begin{tabular}{r|lllllllllll}\n  & Disaster.Subgroup & Disaster.Type & Country & Region & Total.Deaths & No.Injured & No.Homeless & Total.Affected & Total.Damages...000.US.. & Reconstruction.Costs...000.US.. & Insured.Damages...000.US..\\\\\n  & <fct> & <fct> & <fct> & <fct> & <int> & <int> & <int> & <int> & <int> & <int> & <int>\\\\\n\\hline\n\t1 & Hydrological   & Flood & Argentina  & South America             &     36 &    200 &  26923 &      423 &  25000 &  194000 &  10000\\\\\n\t2 & Meteorological & Storm & Australia  & Australia and New Zealand &     13 &      1 &    200 &    35020 &  72475 &    1510 &  60000\\\\\n\t3 & Hydrological   & Flood & Benin      & Western Africa            &      9 &     26 &    826 &      450 &    200 &  150000 &  60000\\\\\n\t4 & Meteorological & Storm & Bangladesh & Southern Asia             & 300000 &   5933 & 300000 &  3648000 &  86400 &  194000 & 115000\\\\\n\t5 & Meteorological & Storm & Bangladesh & Southern Asia             &     17 &     12 &     75 &      110 & 210000 &  194000 & 200500\\\\\n\t6 & Hydrological   & Flood & Bangladesh & Southern Asia             &   6908 & 155715 & 125000 & 10000000 &  25000 & 9450000 & 400000\\\\\n\\end{tabular}\n",
            "text/markdown": "\nA data.frame: 6 × 11\n\n| <!--/--> | Disaster.Subgroup &lt;fct&gt; | Disaster.Type &lt;fct&gt; | Country &lt;fct&gt; | Region &lt;fct&gt; | Total.Deaths &lt;int&gt; | No.Injured &lt;int&gt; | No.Homeless &lt;int&gt; | Total.Affected &lt;int&gt; | Total.Damages...000.US.. &lt;int&gt; | Reconstruction.Costs...000.US.. &lt;int&gt; | Insured.Damages...000.US.. &lt;int&gt; |\n|---|---|---|---|---|---|---|---|---|---|---|---|\n| 1 | Hydrological   | Flood | Argentina  | South America             |     36 |    200 |  26923 |      423 |  25000 |  194000 |  10000 |\n| 2 | Meteorological | Storm | Australia  | Australia and New Zealand |     13 |      1 |    200 |    35020 |  72475 |    1510 |  60000 |\n| 3 | Hydrological   | Flood | Benin      | Western Africa            |      9 |     26 |    826 |      450 |    200 |  150000 |  60000 |\n| 4 | Meteorological | Storm | Bangladesh | Southern Asia             | 300000 |   5933 | 300000 |  3648000 |  86400 |  194000 | 115000 |\n| 5 | Meteorological | Storm | Bangladesh | Southern Asia             |     17 |     12 |     75 |      110 | 210000 |  194000 | 200500 |\n| 6 | Hydrological   | Flood | Bangladesh | Southern Asia             |   6908 | 155715 | 125000 | 10000000 |  25000 | 9450000 | 400000 |\n\n",
            "text/html": [
              "<table class=\"dataframe\">\n",
              "<caption>A data.frame: 6 × 11</caption>\n",
              "<thead>\n",
              "\t<tr><th></th><th scope=col>Disaster.Subgroup</th><th scope=col>Disaster.Type</th><th scope=col>Country</th><th scope=col>Region</th><th scope=col>Total.Deaths</th><th scope=col>No.Injured</th><th scope=col>No.Homeless</th><th scope=col>Total.Affected</th><th scope=col>Total.Damages...000.US..</th><th scope=col>Reconstruction.Costs...000.US..</th><th scope=col>Insured.Damages...000.US..</th></tr>\n",
              "\t<tr><th></th><th scope=col>&lt;fct&gt;</th><th scope=col>&lt;fct&gt;</th><th scope=col>&lt;fct&gt;</th><th scope=col>&lt;fct&gt;</th><th scope=col>&lt;int&gt;</th><th scope=col>&lt;int&gt;</th><th scope=col>&lt;int&gt;</th><th scope=col>&lt;int&gt;</th><th scope=col>&lt;int&gt;</th><th scope=col>&lt;int&gt;</th><th scope=col>&lt;int&gt;</th></tr>\n",
              "</thead>\n",
              "<tbody>\n",
              "\t<tr><th scope=row>1</th><td>Hydrological  </td><td>Flood</td><td>Argentina </td><td>South America            </td><td>    36</td><td>   200</td><td> 26923</td><td>     423</td><td> 25000</td><td> 194000</td><td> 10000</td></tr>\n",
              "\t<tr><th scope=row>2</th><td>Meteorological</td><td>Storm</td><td>Australia </td><td>Australia and New Zealand</td><td>    13</td><td>     1</td><td>   200</td><td>   35020</td><td> 72475</td><td>   1510</td><td> 60000</td></tr>\n",
              "\t<tr><th scope=row>3</th><td>Hydrological  </td><td>Flood</td><td>Benin     </td><td>Western Africa           </td><td>     9</td><td>    26</td><td>   826</td><td>     450</td><td>   200</td><td> 150000</td><td> 60000</td></tr>\n",
              "\t<tr><th scope=row>4</th><td>Meteorological</td><td>Storm</td><td>Bangladesh</td><td>Southern Asia            </td><td>300000</td><td>  5933</td><td>300000</td><td> 3648000</td><td> 86400</td><td> 194000</td><td>115000</td></tr>\n",
              "\t<tr><th scope=row>5</th><td>Meteorological</td><td>Storm</td><td>Bangladesh</td><td>Southern Asia            </td><td>    17</td><td>    12</td><td>    75</td><td>     110</td><td>210000</td><td> 194000</td><td>200500</td></tr>\n",
              "\t<tr><th scope=row>6</th><td>Hydrological  </td><td>Flood</td><td>Bangladesh</td><td>Southern Asia            </td><td>  6908</td><td>155715</td><td>125000</td><td>10000000</td><td> 25000</td><td>9450000</td><td>400000</td></tr>\n",
              "</tbody>\n",
              "</table>\n"
            ]
          },
          "metadata": {}
        }
      ]
    },
    {
      "cell_type": "code",
      "source": [
        "unique(complete2$Disaster.Type)"
      ],
      "metadata": {
        "colab": {
          "base_uri": "https://localhost:8080/",
          "height": 69
        },
        "id": "2aMBUPMw4b6B",
        "outputId": "bc145ab3-1b13-4062-be04-038119ed61a5"
      },
      "execution_count": 6,
      "outputs": [
        {
          "output_type": "display_data",
          "data": {
            "text/plain": [
              " [1] Flood                 Storm                 Drought              \n",
              " [4] Landslide             Earthquake            Epidemic             \n",
              " [7] Wildfire              Mass movement (dry)   Extreme temperature  \n",
              "[10] Volcanic activity     Insect infestation    Impact               \n",
              "[13] Animal accident       Glacial lake outburst\n",
              "14 Levels: Animal accident Drought Earthquake Epidemic ... Wildfire"
            ],
            "text/latex": "\\begin{enumerate*}\n\\item Flood\n\\item Storm\n\\item Drought\n\\item Landslide\n\\item Earthquake\n\\item Epidemic\n\\item Wildfire\n\\item Mass movement (dry)\n\\item Extreme temperature \n\\item Volcanic activity\n\\item Insect infestation\n\\item Impact\n\\item Animal accident\n\\item Glacial lake outburst\n\\end{enumerate*}\n\n\\emph{Levels}: \\begin{enumerate*}\n\\item 'Animal accident'\n\\item 'Drought'\n\\item 'Earthquake'\n\\item 'Epidemic'\n\\item 'Extreme temperature '\n\\item 'Flood'\n\\item 'Glacial lake outburst'\n\\item 'Impact'\n\\item 'Insect infestation'\n\\item 'Landslide'\n\\item 'Mass movement (dry)'\n\\item 'Storm'\n\\item 'Volcanic activity'\n\\item 'Wildfire'\n\\end{enumerate*}\n",
            "text/markdown": "1. Flood\n2. Storm\n3. Drought\n4. Landslide\n5. Earthquake\n6. Epidemic\n7. Wildfire\n8. Mass movement (dry)\n9. Extreme temperature \n10. Volcanic activity\n11. Insect infestation\n12. Impact\n13. Animal accident\n14. Glacial lake outburst\n\n\n\n**Levels**: 1. 'Animal accident'\n2. 'Drought'\n3. 'Earthquake'\n4. 'Epidemic'\n5. 'Extreme temperature '\n6. 'Flood'\n7. 'Glacial lake outburst'\n8. 'Impact'\n9. 'Insect infestation'\n10. 'Landslide'\n11. 'Mass movement (dry)'\n12. 'Storm'\n13. 'Volcanic activity'\n14. 'Wildfire'\n\n\n",
            "text/html": [
              "<style>\n",
              ".list-inline {list-style: none; margin:0; padding: 0}\n",
              ".list-inline>li {display: inline-block}\n",
              ".list-inline>li:not(:last-child)::after {content: \"\\00b7\"; padding: 0 .5ex}\n",
              "</style>\n",
              "<ol class=list-inline><li>Flood</li><li>Storm</li><li>Drought</li><li>Landslide</li><li>Earthquake</li><li>Epidemic</li><li>Wildfire</li><li>Mass movement (dry)</li><li>Extreme temperature </li><li>Volcanic activity</li><li>Insect infestation</li><li>Impact</li><li>Animal accident</li><li>Glacial lake outburst</li></ol>\n",
              "\n",
              "<details>\n",
              "\t<summary style=display:list-item;cursor:pointer>\n",
              "\t\t<strong>Levels</strong>:\n",
              "\t</summary>\n",
              "\t<style>\n",
              "\t.list-inline {list-style: none; margin:0; padding: 0}\n",
              "\t.list-inline>li {display: inline-block}\n",
              "\t.list-inline>li:not(:last-child)::after {content: \"\\00b7\"; padding: 0 .5ex}\n",
              "\t</style>\n",
              "\t<ol class=list-inline><li>'Animal accident'</li><li>'Drought'</li><li>'Earthquake'</li><li>'Epidemic'</li><li>'Extreme temperature '</li><li>'Flood'</li><li>'Glacial lake outburst'</li><li>'Impact'</li><li>'Insect infestation'</li><li>'Landslide'</li><li>'Mass movement (dry)'</li><li>'Storm'</li><li>'Volcanic activity'</li><li>'Wildfire'</li></ol>\n",
              "</details>"
            ]
          },
          "metadata": {}
        }
      ]
    },
    {
      "cell_type": "code",
      "source": [
        "install.packages(\"ISLR\")"
      ],
      "metadata": {
        "colab": {
          "base_uri": "https://localhost:8080/"
        },
        "id": "84artRaxLgws",
        "outputId": "edbc65e8-2ee8-41c3-fe4a-9e21566315d8"
      },
      "execution_count": 7,
      "outputs": [
        {
          "output_type": "stream",
          "name": "stderr",
          "text": [
            "Installing package into ‘/usr/local/lib/R/site-library’\n",
            "(as ‘lib’ is unspecified)\n",
            "\n"
          ]
        }
      ]
    },
    {
      "cell_type": "code",
      "source": [
        "library(ISLR)"
      ],
      "metadata": {
        "id": "W8NcyIQnK5Vl"
      },
      "execution_count": 8,
      "outputs": []
    },
    {
      "cell_type": "code",
      "source": [
        "disaster.model<-glm(formula = Disaster.Type ~ Region, family=\"binomial\", data=complete2)\n",
        "summary(disaster.model)"
      ],
      "metadata": {
        "colab": {
          "base_uri": "https://localhost:8080/",
          "height": 749
        },
        "id": "toT8w5iv8M_7",
        "outputId": "aa2252ab-acf8-4755-d1fe-be72783d9339"
      },
      "execution_count": 14,
      "outputs": [
        {
          "output_type": "display_data",
          "data": {
            "text/plain": [
              "\n",
              "Call:\n",
              "glm(formula = Disaster.Type ~ Region, family = \"binomial\", data = complete2)\n",
              "\n",
              "Deviance Residuals: \n",
              "    Min       1Q   Median       3Q      Max  \n",
              "-3.6416   0.0000   0.0000   0.0000   0.0514  \n",
              "\n",
              "Coefficients:\n",
              "                           Estimate Std. Error z value Pr(>|z|)\n",
              "(Intercept)               2.657e+01  2.016e+04   0.001    0.999\n",
              "RegionCaribbean          -7.328e-10  2.541e+04   0.000    1.000\n",
              "RegionCentral America    -1.687e-09  2.399e+04   0.000    1.000\n",
              "RegionCentral Asia        3.355e-09  3.614e+04   0.000    1.000\n",
              "RegionEastern Africa     -1.469e-09  2.278e+04   0.000    1.000\n",
              "RegionEastern Asia        4.589e-09  2.206e+04   0.000    1.000\n",
              "RegionEastern Europe      2.655e-09  2.537e+04   0.000    1.000\n",
              "RegionMelanesia           2.030e-09  3.087e+04   0.000    1.000\n",
              "RegionMicronesia         -7.942e-10  5.793e+04   0.000    1.000\n",
              "RegionMiddle Africa      -6.452e-10  2.660e+04   0.000    1.000\n",
              "RegionNorthern Africa    -1.767e-09  2.868e+04   0.000    1.000\n",
              "RegionNorthern America    1.104e-09  2.290e+04   0.000    1.000\n",
              "RegionNorthern Europe     1.094e-10  3.192e+04   0.000    1.000\n",
              "RegionPolynesia           1.823e-09  4.580e+04   0.000    1.000\n",
              "RegionRussian Federation -1.846e-07  5.572e+04   0.000    1.000\n",
              "RegionSouth America      -2.000e-07  2.271e+04   0.000    1.000\n",
              "RegionSouth-Eastern Asia  1.424e-09  2.183e+04   0.000    1.000\n",
              "RegionSouthern Africa    -4.138e-10  3.226e+04   0.000    1.000\n",
              "RegionSouthern Asia      -1.741e-09  2.180e+04   0.000    1.000\n",
              "RegionSouthern Europe    -1.005e-09  2.503e+04   0.000    1.000\n",
              "RegionWestern Africa     -1.994e+01  2.016e+04  -0.001    0.999\n",
              "RegionWestern Asia        1.075e-10  2.667e+04   0.000    1.000\n",
              "RegionWestern Europe      1.335e-10  2.577e+04   0.000    1.000\n",
              "\n",
              "(Dispersion parameter for binomial family taken to be 1)\n",
              "\n",
              "    Null deviance: 21.184  on 14643  degrees of freedom\n",
              "Residual deviance: 15.260  on 14621  degrees of freedom\n",
              "AIC: 61.26\n",
              "\n",
              "Number of Fisher Scoring iterations: 25\n"
            ]
          },
          "metadata": {}
        }
      ]
    },
    {
      "cell_type": "code",
      "source": [
        "## There are many natural disasters in the table \n",
        "## We'll take a look at a few natural disasters individually for the regression to make sense \n",
        "## The resulting regression equation will be able to help predict the likelihood of floods in any of the regions in the table\n",
        "\n",
        "##Floods\n",
        "\n",
        "flood.model<-glm(formula = Disaster.Type == 'Flood'~ Region, family=\"binomial\", data=complete2)\n",
        "summary(flood.model)\n",
        "flood.prediction <- predict(flood.model,type = \"response\")\n",
        "flood.prediction [1:10]"
      ],
      "metadata": {
        "colab": {
          "base_uri": "https://localhost:8080/",
          "height": 837
        },
        "id": "7gi3-qoML0df",
        "outputId": "747a50c5-4ce8-4a72-9c15-ec9d75b3a1ff"
      },
      "execution_count": 15,
      "outputs": [
        {
          "output_type": "display_data",
          "data": {
            "text/plain": [
              "\n",
              "Call:\n",
              "glm(formula = Disaster.Type == \"Flood\" ~ Region, family = \"binomial\", \n",
              "    data = complete2)\n",
              "\n",
              "Deviance Residuals: \n",
              "    Min       1Q   Median       3Q      Max  \n",
              "-1.2082  -0.9951  -0.8020   1.3168   2.5373  \n",
              "\n",
              "Coefficients:\n",
              "                         Estimate Std. Error z value Pr(>|z|)    \n",
              "(Intercept)              -0.62186    0.11875  -5.237 1.63e-07 ***\n",
              "RegionCaribbean          -0.31699    0.15309  -2.071  0.03839 *  \n",
              "RegionCentral America    -0.03752    0.14152  -0.265  0.79090    \n",
              "RegionCentral Asia        0.14493    0.21003   0.690  0.49016    \n",
              "RegionEastern Africa      0.15991    0.13356   1.197  0.23119    \n",
              "RegionEastern Asia       -0.34738    0.13145  -2.643  0.00822 ** \n",
              "RegionEastern Europe      0.33963    0.14740   2.304  0.02122 *  \n",
              "RegionMelanesia          -1.00841    0.21347  -4.724 2.31e-06 ***\n",
              "RegionMicronesia         -1.40629    0.49032  -2.868  0.00413 ** \n",
              "RegionMiddle Africa       0.04072    0.15629   0.261  0.79447    \n",
              "RegionNorthern Africa     0.69402    0.16502   4.206 2.60e-05 ***\n",
              "RegionNorthern America   -0.68494    0.14018  -4.886 1.03e-06 ***\n",
              "RegionNorthern Europe    -0.49617    0.20030  -2.477  0.01324 *  \n",
              "RegionPolynesia          -2.55620    0.60095  -4.254 2.10e-05 ***\n",
              "RegionRussian Federation  0.05387    0.32597   0.165  0.86873    \n",
              "RegionSouth America       0.58230    0.13244   4.397 1.10e-05 ***\n",
              "RegionSouth-Eastern Asia  0.19654    0.12811   1.534  0.12499    \n",
              "RegionSouthern Africa     0.11103    0.18824   0.590  0.55529    \n",
              "RegionSouthern Asia       0.30002    0.12775   2.348  0.01885 *  \n",
              "RegionSouthern Europe     0.10085    0.14668   0.688  0.49172    \n",
              "RegionWestern Africa      0.17665    0.14015   1.260  0.20752    \n",
              "RegionWestern Asia        0.31170    0.15475   2.014  0.04399 *  \n",
              "RegionWestern Europe     -0.42327    0.15704  -2.695  0.00703 ** \n",
              "---\n",
              "Signif. codes:  0 ‘***’ 0.001 ‘**’ 0.01 ‘*’ 0.05 ‘.’ 0.1 ‘ ’ 1\n",
              "\n",
              "(Dispersion parameter for binomial family taken to be 1)\n",
              "\n",
              "    Null deviance: 19137  on 14643  degrees of freedom\n",
              "Residual deviance: 18646  on 14621  degrees of freedom\n",
              "AIC: 18692\n",
              "\n",
              "Number of Fisher Scoring iterations: 5\n"
            ]
          },
          "metadata": {}
        },
        {
          "output_type": "display_data",
          "data": {
            "text/plain": [
              "        1         2         3         4         5         6         7         8 \n",
              "0.4901118 0.3493590 0.3905013 0.4202271 0.4202271 0.4202271 0.4202271 0.4901118 \n",
              "        9        10 \n",
              "0.4901118 0.2811321 "
            ],
            "text/latex": "\\begin{description*}\n\\item[1] 0.490111779879621\n\\item[2] 0.349358974358974\n\\item[3] 0.390501319261214\n\\item[4] 0.420227149810708\n\\item[5] 0.420227149810708\n\\item[6] 0.420227149810708\n\\item[7] 0.420227149810708\n\\item[8] 0.490111779879621\n\\item[9] 0.490111779879621\n\\item[10] 0.281132075471698\n\\end{description*}\n",
            "text/markdown": "1\n:   0.4901117798796212\n:   0.3493589743589743\n:   0.3905013192612144\n:   0.4202271498107085\n:   0.4202271498107086\n:   0.4202271498107087\n:   0.4202271498107088\n:   0.4901117798796219\n:   0.49011177987962110\n:   0.281132075471698\n\n",
            "text/html": [
              "<style>\n",
              ".dl-inline {width: auto; margin:0; padding: 0}\n",
              ".dl-inline>dt, .dl-inline>dd {float: none; width: auto; display: inline-block}\n",
              ".dl-inline>dt::after {content: \":\\0020\"; padding-right: .5ex}\n",
              ".dl-inline>dt:not(:first-of-type) {padding-left: .5ex}\n",
              "</style><dl class=dl-inline><dt>1</dt><dd>0.490111779879621</dd><dt>2</dt><dd>0.349358974358974</dd><dt>3</dt><dd>0.390501319261214</dd><dt>4</dt><dd>0.420227149810708</dd><dt>5</dt><dd>0.420227149810708</dd><dt>6</dt><dd>0.420227149810708</dd><dt>7</dt><dd>0.420227149810708</dd><dt>8</dt><dd>0.490111779879621</dd><dt>9</dt><dd>0.490111779879621</dd><dt>10</dt><dd>0.281132075471698</dd></dl>\n"
            ]
          },
          "metadata": {}
        }
      ]
    },
    {
      "cell_type": "code",
      "source": [
        "flood.prediction <- predict(flood.model,type = \"response\")\n",
        "flood.prediction [1:5]\n",
        "# 34-49% chance of a flood\n",
        "#seems to be the most common so far"
      ],
      "metadata": {
        "colab": {
          "base_uri": "https://localhost:8080/",
          "height": 34
        },
        "id": "xbjscQRd34Kv",
        "outputId": "5596a5ca-291f-4b96-c29e-b7ddc343b562"
      },
      "execution_count": 20,
      "outputs": [
        {
          "output_type": "display_data",
          "data": {
            "text/plain": [
              "        1         2         3         4         5 \n",
              "0.4901118 0.3493590 0.3905013 0.4202271 0.4202271 "
            ],
            "text/latex": "\\begin{description*}\n\\item[1] 0.490111779879621\n\\item[2] 0.349358974358974\n\\item[3] 0.390501319261214\n\\item[4] 0.420227149810708\n\\item[5] 0.420227149810708\n\\end{description*}\n",
            "text/markdown": "1\n:   0.4901117798796212\n:   0.3493589743589743\n:   0.3905013192612144\n:   0.4202271498107085\n:   0.420227149810708\n\n",
            "text/html": [
              "<style>\n",
              ".dl-inline {width: auto; margin:0; padding: 0}\n",
              ".dl-inline>dt, .dl-inline>dd {float: none; width: auto; display: inline-block}\n",
              ".dl-inline>dt::after {content: \":\\0020\"; padding-right: .5ex}\n",
              ".dl-inline>dt:not(:first-of-type) {padding-left: .5ex}\n",
              "</style><dl class=dl-inline><dt>1</dt><dd>0.490111779879621</dd><dt>2</dt><dd>0.349358974358974</dd><dt>3</dt><dd>0.390501319261214</dd><dt>4</dt><dd>0.420227149810708</dd><dt>5</dt><dd>0.420227149810708</dd></dl>\n"
            ]
          },
          "metadata": {}
        }
      ]
    },
    {
      "cell_type": "code",
      "source": [
        "## Storm\n",
        "storm.model<-glm(formula = Disaster.Type == 'Storm'~ Region, family=\"binomial\", data=complete2)\n",
        "summary(storm.model)\n",
        "storm.prediction <- predict(storm.model,type = \"response\")\n",
        "storm.prediction [1:5]\n",
        "# 7-39% chance of a storm "
      ],
      "metadata": {
        "colab": {
          "base_uri": "https://localhost:8080/",
          "height": 820
        },
        "id": "G2Ejn5zmvWQY",
        "outputId": "1e5d986b-a23e-453b-cd21-7af9424756a6"
      },
      "execution_count": 19,
      "outputs": [
        {
          "output_type": "display_data",
          "data": {
            "text/plain": [
              "\n",
              "Call:\n",
              "glm(formula = Disaster.Type == \"Storm\" ~ Region, family = \"binomial\", \n",
              "    data = complete2)\n",
              "\n",
              "Deviance Residuals: \n",
              "    Min       1Q   Median       3Q      Max  \n",
              "-1.5375  -0.8417  -0.5605   1.0276   2.5843  \n",
              "\n",
              "Coefficients:\n",
              "                         Estimate Std. Error z value Pr(>|z|)    \n",
              "(Intercept)              -0.41616    0.11569  -3.597 0.000322 ***\n",
              "RegionCaribbean           0.67419    0.14511   4.646 3.38e-06 ***\n",
              "RegionCentral America    -0.43939    0.14052  -3.127 0.001766 ** \n",
              "RegionCentral Asia       -2.88706    0.46958  -6.148 7.84e-10 ***\n",
              "RegionEastern Africa     -1.35506    0.14324  -9.460  < 2e-16 ***\n",
              "RegionEastern Asia        0.05748    0.12649   0.454 0.649512    \n",
              "RegionEastern Europe     -1.15562    0.16282  -7.098 1.27e-12 ***\n",
              "RegionMelanesia           0.08560    0.17635   0.485 0.627413    \n",
              "RegionMicronesia          0.84104    0.33267   2.528 0.011466 *  \n",
              "RegionMiddle Africa      -2.53078    0.25199 -10.043  < 2e-16 ***\n",
              "RegionNorthern Africa    -2.29539    0.26365  -8.706  < 2e-16 ***\n",
              "RegionNorthern America    0.77916    0.13126   5.936 2.92e-09 ***\n",
              "RegionNorthern Europe     0.30978    0.18100   1.711 0.086995 .  \n",
              "RegionPolynesia           1.23191    0.27585   4.466 7.97e-06 ***\n",
              "RegionRussian Federation -1.95875    0.53539  -3.659 0.000254 ***\n",
              "RegionSouth America      -2.09894    0.16065 -13.066  < 2e-16 ***\n",
              "RegionSouth-Eastern Asia -0.41199    0.12648  -3.257 0.001124 ** \n",
              "RegionSouthern Africa    -0.87889    0.20739  -4.238 2.26e-05 ***\n",
              "RegionSouthern Asia      -0.88703    0.12885  -6.884 5.82e-12 ***\n",
              "RegionSouthern Europe    -1.31234    0.16407  -7.999 1.26e-15 ***\n",
              "RegionWestern Africa     -2.64227    0.21016 -12.572  < 2e-16 ***\n",
              "RegionWestern Asia       -1.34508    0.18054  -7.450 9.30e-14 ***\n",
              "RegionWestern Europe      0.36737    0.14669   2.504 0.012267 *  \n",
              "---\n",
              "Signif. codes:  0 ‘***’ 0.001 ‘**’ 0.01 ‘*’ 0.05 ‘.’ 0.1 ‘ ’ 1\n",
              "\n",
              "(Dispersion parameter for binomial family taken to be 1)\n",
              "\n",
              "    Null deviance: 17183  on 14643  degrees of freedom\n",
              "Residual deviance: 14975  on 14621  degrees of freedom\n",
              "AIC: 15021\n",
              "\n",
              "Number of Fisher Scoring iterations: 5\n"
            ]
          },
          "metadata": {}
        },
        {
          "output_type": "display_data",
          "data": {
            "text/plain": [
              "         1          2          3          4          5 \n",
              "0.07480653 0.39743590 0.04485488 0.21362899 0.21362899 "
            ],
            "text/latex": "\\begin{description*}\n\\item[1] 0.0748065348238357\n\\item[2] 0.397435897435898\n\\item[3] 0.0448548826075678\n\\item[4] 0.213628988642509\n\\item[5] 0.213628988642509\n\\end{description*}\n",
            "text/markdown": "1\n:   0.07480653482383572\n:   0.3974358974358983\n:   0.04485488260756784\n:   0.2136289886425095\n:   0.213628988642509\n\n",
            "text/html": [
              "<style>\n",
              ".dl-inline {width: auto; margin:0; padding: 0}\n",
              ".dl-inline>dt, .dl-inline>dd {float: none; width: auto; display: inline-block}\n",
              ".dl-inline>dt::after {content: \":\\0020\"; padding-right: .5ex}\n",
              ".dl-inline>dt:not(:first-of-type) {padding-left: .5ex}\n",
              "</style><dl class=dl-inline><dt>1</dt><dd>0.0748065348238357</dd><dt>2</dt><dd>0.397435897435898</dd><dt>3</dt><dd>0.0448548826075678</dd><dt>4</dt><dd>0.213628988642509</dd><dt>5</dt><dd>0.213628988642509</dd></dl>\n"
            ]
          },
          "metadata": {}
        }
      ]
    },
    {
      "cell_type": "code",
      "source": [
        "## Epidemic \n",
        "epi.model<-glm(formula = Disaster.Type == 'Flood'~ Region, family=\"binomial\", data=complete2)\n",
        "summary(epi.model)\n",
        "epi.prediction <- predict(epi.model,type = \"response\")\n",
        "epi.prediction [1:5]\n",
        "# 30-40% chance of an epidemic "
      ],
      "metadata": {
        "colab": {
          "base_uri": "https://localhost:8080/",
          "height": 820
        },
        "id": "lzrCokPH4Y2i",
        "outputId": "ceecb329-8511-4fc7-c5e8-ab4a7709a301"
      },
      "execution_count": 18,
      "outputs": [
        {
          "output_type": "display_data",
          "data": {
            "text/plain": [
              "\n",
              "Call:\n",
              "glm(formula = Disaster.Type == \"Flood\" ~ Region, family = \"binomial\", \n",
              "    data = complete2)\n",
              "\n",
              "Deviance Residuals: \n",
              "    Min       1Q   Median       3Q      Max  \n",
              "-1.2082  -0.9951  -0.8020   1.3168   2.5373  \n",
              "\n",
              "Coefficients:\n",
              "                         Estimate Std. Error z value Pr(>|z|)    \n",
              "(Intercept)              -0.62186    0.11875  -5.237 1.63e-07 ***\n",
              "RegionCaribbean          -0.31699    0.15309  -2.071  0.03839 *  \n",
              "RegionCentral America    -0.03752    0.14152  -0.265  0.79090    \n",
              "RegionCentral Asia        0.14493    0.21003   0.690  0.49016    \n",
              "RegionEastern Africa      0.15991    0.13356   1.197  0.23119    \n",
              "RegionEastern Asia       -0.34738    0.13145  -2.643  0.00822 ** \n",
              "RegionEastern Europe      0.33963    0.14740   2.304  0.02122 *  \n",
              "RegionMelanesia          -1.00841    0.21347  -4.724 2.31e-06 ***\n",
              "RegionMicronesia         -1.40629    0.49032  -2.868  0.00413 ** \n",
              "RegionMiddle Africa       0.04072    0.15629   0.261  0.79447    \n",
              "RegionNorthern Africa     0.69402    0.16502   4.206 2.60e-05 ***\n",
              "RegionNorthern America   -0.68494    0.14018  -4.886 1.03e-06 ***\n",
              "RegionNorthern Europe    -0.49617    0.20030  -2.477  0.01324 *  \n",
              "RegionPolynesia          -2.55620    0.60095  -4.254 2.10e-05 ***\n",
              "RegionRussian Federation  0.05387    0.32597   0.165  0.86873    \n",
              "RegionSouth America       0.58230    0.13244   4.397 1.10e-05 ***\n",
              "RegionSouth-Eastern Asia  0.19654    0.12811   1.534  0.12499    \n",
              "RegionSouthern Africa     0.11103    0.18824   0.590  0.55529    \n",
              "RegionSouthern Asia       0.30002    0.12775   2.348  0.01885 *  \n",
              "RegionSouthern Europe     0.10085    0.14668   0.688  0.49172    \n",
              "RegionWestern Africa      0.17665    0.14015   1.260  0.20752    \n",
              "RegionWestern Asia        0.31170    0.15475   2.014  0.04399 *  \n",
              "RegionWestern Europe     -0.42327    0.15704  -2.695  0.00703 ** \n",
              "---\n",
              "Signif. codes:  0 ‘***’ 0.001 ‘**’ 0.01 ‘*’ 0.05 ‘.’ 0.1 ‘ ’ 1\n",
              "\n",
              "(Dispersion parameter for binomial family taken to be 1)\n",
              "\n",
              "    Null deviance: 19137  on 14643  degrees of freedom\n",
              "Residual deviance: 18646  on 14621  degrees of freedom\n",
              "AIC: 18692\n",
              "\n",
              "Number of Fisher Scoring iterations: 5\n"
            ]
          },
          "metadata": {}
        },
        {
          "output_type": "display_data",
          "data": {
            "text/plain": [
              "        1         2         3         4         5 \n",
              "0.4901118 0.3493590 0.3905013 0.4202271 0.4202271 "
            ],
            "text/latex": "\\begin{description*}\n\\item[1] 0.490111779879621\n\\item[2] 0.349358974358974\n\\item[3] 0.390501319261214\n\\item[4] 0.420227149810708\n\\item[5] 0.420227149810708\n\\end{description*}\n",
            "text/markdown": "1\n:   0.4901117798796212\n:   0.3493589743589743\n:   0.3905013192612144\n:   0.4202271498107085\n:   0.420227149810708\n\n",
            "text/html": [
              "<style>\n",
              ".dl-inline {width: auto; margin:0; padding: 0}\n",
              ".dl-inline>dt, .dl-inline>dd {float: none; width: auto; display: inline-block}\n",
              ".dl-inline>dt::after {content: \":\\0020\"; padding-right: .5ex}\n",
              ".dl-inline>dt:not(:first-of-type) {padding-left: .5ex}\n",
              "</style><dl class=dl-inline><dt>1</dt><dd>0.490111779879621</dd><dt>2</dt><dd>0.349358974358974</dd><dt>3</dt><dd>0.390501319261214</dd><dt>4</dt><dd>0.420227149810708</dd><dt>5</dt><dd>0.420227149810708</dd></dl>\n"
            ]
          },
          "metadata": {}
        }
      ]
    }
  ]
}