{
  "nbformat": 4,
  "nbformat_minor": 0,
  "metadata": {
    "colab": {
      "name": "KNN.ipynb",
      "provenance": [],
      "authorship_tag": "ABX9TyMTbC9s+yFPtmTzjcrrMDGO",
      "include_colab_link": true
    },
    "kernelspec": {
      "name": "ir",
      "display_name": "R"
    },
    "language_info": {
      "name": "R"
    }
  },
  "cells": [
    {
      "cell_type": "markdown",
      "metadata": {
        "id": "view-in-github",
        "colab_type": "text"
      },
      "source": [
        "<a href=\"https://colab.research.google.com/github/najiaahmedd/CIND820_InitialResults/blob/main/KNN.ipynb\" target=\"_parent\"><img src=\"https://colab.research.google.com/assets/colab-badge.svg\" alt=\"Open In Colab\"/></a>"
      ]
    },
    {
      "cell_type": "code",
      "execution_count": 158,
      "metadata": {
        "id": "n3TDRyw302FC"
      },
      "outputs": [],
      "source": [
        "data1<-read.csv(\"projectfiles.csv\")"
      ]
    },
    {
      "cell_type": "code",
      "source": [
        "install.packages(\"mice\")\n",
        "library(mice)"
      ],
      "metadata": {
        "colab": {
          "base_uri": "https://localhost:8080/"
        },
        "id": "hg4kZWv31A3m",
        "outputId": "7b40e2cc-3fea-485e-9cc0-00460b5ce8ec"
      },
      "execution_count": 159,
      "outputs": [
        {
          "output_type": "stream",
          "name": "stderr",
          "text": [
            "Installing package into ‘/usr/local/lib/R/site-library’\n",
            "(as ‘lib’ is unspecified)\n",
            "\n"
          ]
        }
      ]
    },
    {
      "cell_type": "code",
      "source": [
        "dataclean<-subset(data1, select = c(Year,Disaster.Group,Disaster.Subgroup, Disaster.Type, Disaster.Subtype, Country, Region, Total.Deaths, No.Injured, No.Affected, No.Homeless, Total.Affected, Total.Damages...000.US.., Reconstruction.Costs...000.US.., Insured.Damages...000.US..))\n",
        "dataclean1<-subset(data1, select = c(Year,Total.Deaths, No.Injured, No.Affected, No.Homeless, Total.Affected, Total.Damages...000.US.., Reconstruction.Costs...000.US.., Insured.Damages...000.US..))\n",
        "data2<-subset(dataclean, select = c(Year,Disaster.Group,Disaster.Subgroup, Disaster.Type, Disaster.Subtype, Country, Region, Total.Deaths, No.Injured, No.Homeless, Total.Affected, Total.Damages...000.US.., Reconstruction.Costs...000.US.., Insured.Damages...000.US..))\n",
        "data2$Year <- as.character(data2$Year)"
      ],
      "metadata": {
        "id": "HxxZkR0z1Da8"
      },
      "execution_count": 160,
      "outputs": []
    },
    {
      "cell_type": "code",
      "source": [
        "imputedData<-mice (data2, m=6, maxit=50, meth='pmm', seed=600)"
      ],
      "metadata": {
        "colab": {
          "base_uri": "https://localhost:8080/"
        },
        "id": "JmqgRtjw1D0_",
        "outputId": "b7ab5572-931d-4d95-998e-3e57143b5c6f"
      },
      "execution_count": 161,
      "outputs": [
        {
          "output_type": "stream",
          "name": "stdout",
          "text": [
            "\n",
            " iter imp variable\n",
            "  1   1  Total.Deaths  No.Injured  No.Homeless  Total.Affected  Total.Damages...000.US..  Reconstruction.Costs...000.US..  Insured.Damages...000.US..\n",
            "  1   2  Total.Deaths  No.Injured  No.Homeless  Total.Affected  Total.Damages...000.US..  Reconstruction.Costs...000.US..  Insured.Damages...000.US..\n",
            "  1   3  Total.Deaths  No.Injured  No.Homeless  Total.Affected  Total.Damages...000.US..  Reconstruction.Costs...000.US..  Insured.Damages...000.US..\n",
            "  1   4  Total.Deaths  No.Injured  No.Homeless  Total.Affected  Total.Damages...000.US..  Reconstruction.Costs...000.US..  Insured.Damages...000.US..\n",
            "  1   5  Total.Deaths  No.Injured  No.Homeless  Total.Affected  Total.Damages...000.US..  Reconstruction.Costs...000.US..  Insured.Damages...000.US..\n",
            "  1   6  Total.Deaths  No.Injured  No.Homeless  Total.Affected  Total.Damages...000.US..  Reconstruction.Costs...000.US..  Insured.Damages...000.US..\n",
            "  2   1  Total.Deaths  No.Injured  No.Homeless  Total.Affected  Total.Damages...000.US..  Reconstruction.Costs...000.US..  Insured.Damages...000.US..\n",
            "  2   2  Total.Deaths  No.Injured  No.Homeless  Total.Affected  Total.Damages...000.US..  Reconstruction.Costs...000.US..  Insured.Damages...000.US..\n",
            "  2   3  Total.Deaths  No.Injured  No.Homeless  Total.Affected  Total.Damages...000.US..  Reconstruction.Costs...000.US..  Insured.Damages...000.US..\n",
            "  2   4  Total.Deaths  No.Injured  No.Homeless  Total.Affected  Total.Damages...000.US..  Reconstruction.Costs...000.US..  Insured.Damages...000.US..\n",
            "  2   5  Total.Deaths  No.Injured  No.Homeless  Total.Affected  Total.Damages...000.US..  Reconstruction.Costs...000.US..  Insured.Damages...000.US..\n",
            "  2   6  Total.Deaths  No.Injured  No.Homeless  Total.Affected  Total.Damages...000.US..  Reconstruction.Costs...000.US..  Insured.Damages...000.US..\n",
            "  3   1  Total.Deaths  No.Injured  No.Homeless  Total.Affected  Total.Damages...000.US..  Reconstruction.Costs...000.US..  Insured.Damages...000.US..\n",
            "  3   2  Total.Deaths  No.Injured  No.Homeless  Total.Affected  Total.Damages...000.US..  Reconstruction.Costs...000.US..  Insured.Damages...000.US..\n",
            "  3   3  Total.Deaths  No.Injured  No.Homeless  Total.Affected  Total.Damages...000.US..  Reconstruction.Costs...000.US..  Insured.Damages...000.US..\n",
            "  3   4  Total.Deaths  No.Injured  No.Homeless  Total.Affected  Total.Damages...000.US..  Reconstruction.Costs...000.US..  Insured.Damages...000.US..\n",
            "  3   5  Total.Deaths  No.Injured  No.Homeless  Total.Affected  Total.Damages...000.US..  Reconstruction.Costs...000.US..  Insured.Damages...000.US..\n",
            "  3   6  Total.Deaths  No.Injured  No.Homeless  Total.Affected  Total.Damages...000.US..  Reconstruction.Costs...000.US..  Insured.Damages...000.US..\n",
            "  4   1  Total.Deaths  No.Injured  No.Homeless  Total.Affected  Total.Damages...000.US..  Reconstruction.Costs...000.US..  Insured.Damages...000.US..\n",
            "  4   2  Total.Deaths  No.Injured  No.Homeless  Total.Affected  Total.Damages...000.US..  Reconstruction.Costs...000.US..  Insured.Damages...000.US..\n",
            "  4   3  Total.Deaths  No.Injured  No.Homeless  Total.Affected  Total.Damages...000.US..  Reconstruction.Costs...000.US..  Insured.Damages...000.US..\n",
            "  4   4  Total.Deaths  No.Injured  No.Homeless  Total.Affected  Total.Damages...000.US..  Reconstruction.Costs...000.US..  Insured.Damages...000.US..\n",
            "  4   5  Total.Deaths  No.Injured  No.Homeless  Total.Affected  Total.Damages...000.US..  Reconstruction.Costs...000.US..  Insured.Damages...000.US..\n",
            "  4   6  Total.Deaths  No.Injured  No.Homeless  Total.Affected  Total.Damages...000.US..  Reconstruction.Costs...000.US..  Insured.Damages...000.US..\n",
            "  5   1  Total.Deaths  No.Injured  No.Homeless  Total.Affected  Total.Damages...000.US..  Reconstruction.Costs...000.US..  Insured.Damages...000.US..\n",
            "  5   2  Total.Deaths  No.Injured  No.Homeless  Total.Affected  Total.Damages...000.US..  Reconstruction.Costs...000.US..  Insured.Damages...000.US..\n",
            "  5   3  Total.Deaths  No.Injured  No.Homeless  Total.Affected  Total.Damages...000.US..  Reconstruction.Costs...000.US..  Insured.Damages...000.US..\n",
            "  5   4  Total.Deaths  No.Injured  No.Homeless  Total.Affected  Total.Damages...000.US..  Reconstruction.Costs...000.US..  Insured.Damages...000.US..\n",
            "  5   5  Total.Deaths  No.Injured  No.Homeless  Total.Affected  Total.Damages...000.US..  Reconstruction.Costs...000.US..  Insured.Damages...000.US..\n",
            "  5   6  Total.Deaths  No.Injured  No.Homeless  Total.Affected  Total.Damages...000.US..  Reconstruction.Costs...000.US..  Insured.Damages...000.US..\n",
            "  6   1  Total.Deaths  No.Injured  No.Homeless  Total.Affected  Total.Damages...000.US..  Reconstruction.Costs...000.US..  Insured.Damages...000.US..\n",
            "  6   2  Total.Deaths  No.Injured  No.Homeless  Total.Affected  Total.Damages...000.US..  Reconstruction.Costs...000.US..  Insured.Damages...000.US..\n",
            "  6   3  Total.Deaths  No.Injured  No.Homeless  Total.Affected  Total.Damages...000.US..  Reconstruction.Costs...000.US..  Insured.Damages...000.US..\n",
            "  6   4  Total.Deaths  No.Injured  No.Homeless  Total.Affected  Total.Damages...000.US..  Reconstruction.Costs...000.US..  Insured.Damages...000.US..\n",
            "  6   5  Total.Deaths  No.Injured  No.Homeless  Total.Affected  Total.Damages...000.US..  Reconstruction.Costs...000.US..  Insured.Damages...000.US..\n",
            "  6   6  Total.Deaths  No.Injured  No.Homeless  Total.Affected  Total.Damages...000.US..  Reconstruction.Costs...000.US..  Insured.Damages...000.US..\n",
            "  7   1  Total.Deaths  No.Injured  No.Homeless  Total.Affected  Total.Damages...000.US..  Reconstruction.Costs...000.US..  Insured.Damages...000.US..\n",
            "  7   2  Total.Deaths  No.Injured  No.Homeless  Total.Affected  Total.Damages...000.US..  Reconstruction.Costs...000.US..  Insured.Damages...000.US..\n",
            "  7   3  Total.Deaths  No.Injured  No.Homeless  Total.Affected  Total.Damages...000.US..  Reconstruction.Costs...000.US..  Insured.Damages...000.US..\n",
            "  7   4  Total.Deaths  No.Injured  No.Homeless  Total.Affected  Total.Damages...000.US..  Reconstruction.Costs...000.US..  Insured.Damages...000.US..\n",
            "  7   5  Total.Deaths  No.Injured  No.Homeless  Total.Affected  Total.Damages...000.US..  Reconstruction.Costs...000.US..  Insured.Damages...000.US..\n",
            "  7   6  Total.Deaths  No.Injured  No.Homeless  Total.Affected  Total.Damages...000.US..  Reconstruction.Costs...000.US..  Insured.Damages...000.US..\n",
            "  8   1  Total.Deaths  No.Injured  No.Homeless  Total.Affected  Total.Damages...000.US..  Reconstruction.Costs...000.US..  Insured.Damages...000.US..\n",
            "  8   2  Total.Deaths  No.Injured  No.Homeless  Total.Affected  Total.Damages...000.US..  Reconstruction.Costs...000.US..  Insured.Damages...000.US..\n",
            "  8   3  Total.Deaths  No.Injured  No.Homeless  Total.Affected  Total.Damages...000.US..  Reconstruction.Costs...000.US..  Insured.Damages...000.US..\n",
            "  8   4  Total.Deaths  No.Injured  No.Homeless  Total.Affected  Total.Damages...000.US..  Reconstruction.Costs...000.US..  Insured.Damages...000.US..\n",
            "  8   5  Total.Deaths  No.Injured  No.Homeless  Total.Affected  Total.Damages...000.US..  Reconstruction.Costs...000.US..  Insured.Damages...000.US..\n",
            "  8   6  Total.Deaths  No.Injured  No.Homeless  Total.Affected  Total.Damages...000.US..  Reconstruction.Costs...000.US..  Insured.Damages...000.US..\n",
            "  9   1  Total.Deaths  No.Injured  No.Homeless  Total.Affected  Total.Damages...000.US..  Reconstruction.Costs...000.US..  Insured.Damages...000.US..\n",
            "  9   2  Total.Deaths  No.Injured  No.Homeless  Total.Affected  Total.Damages...000.US..  Reconstruction.Costs...000.US..  Insured.Damages...000.US..\n",
            "  9   3  Total.Deaths  No.Injured  No.Homeless  Total.Affected  Total.Damages...000.US..  Reconstruction.Costs...000.US..  Insured.Damages...000.US..\n",
            "  9   4  Total.Deaths  No.Injured  No.Homeless  Total.Affected  Total.Damages...000.US..  Reconstruction.Costs...000.US..  Insured.Damages...000.US..\n",
            "  9   5  Total.Deaths  No.Injured  No.Homeless  Total.Affected  Total.Damages...000.US..  Reconstruction.Costs...000.US..  Insured.Damages...000.US..\n",
            "  9   6  Total.Deaths  No.Injured  No.Homeless  Total.Affected  Total.Damages...000.US..  Reconstruction.Costs...000.US..  Insured.Damages...000.US..\n",
            "  10   1  Total.Deaths  No.Injured  No.Homeless  Total.Affected  Total.Damages...000.US..  Reconstruction.Costs...000.US..  Insured.Damages...000.US..\n",
            "  10   2  Total.Deaths  No.Injured  No.Homeless  Total.Affected  Total.Damages...000.US..  Reconstruction.Costs...000.US..  Insured.Damages...000.US..\n",
            "  10   3  Total.Deaths  No.Injured  No.Homeless  Total.Affected  Total.Damages...000.US..  Reconstruction.Costs...000.US..  Insured.Damages...000.US..\n",
            "  10   4  Total.Deaths  No.Injured  No.Homeless  Total.Affected  Total.Damages...000.US..  Reconstruction.Costs...000.US..  Insured.Damages...000.US..\n",
            "  10   5  Total.Deaths  No.Injured  No.Homeless  Total.Affected  Total.Damages...000.US..  Reconstruction.Costs...000.US..  Insured.Damages...000.US..\n",
            "  10   6  Total.Deaths  No.Injured  No.Homeless  Total.Affected  Total.Damages...000.US..  Reconstruction.Costs...000.US..  Insured.Damages...000.US..\n",
            "  11   1  Total.Deaths  No.Injured  No.Homeless  Total.Affected  Total.Damages...000.US..  Reconstruction.Costs...000.US..  Insured.Damages...000.US..\n",
            "  11   2  Total.Deaths  No.Injured  No.Homeless  Total.Affected  Total.Damages...000.US..  Reconstruction.Costs...000.US..  Insured.Damages...000.US..\n",
            "  11   3  Total.Deaths  No.Injured  No.Homeless  Total.Affected  Total.Damages...000.US..  Reconstruction.Costs...000.US..  Insured.Damages...000.US..\n",
            "  11   4  Total.Deaths  No.Injured  No.Homeless  Total.Affected  Total.Damages...000.US..  Reconstruction.Costs...000.US..  Insured.Damages...000.US..\n",
            "  11   5  Total.Deaths  No.Injured  No.Homeless  Total.Affected  Total.Damages...000.US..  Reconstruction.Costs...000.US..  Insured.Damages...000.US..\n",
            "  11   6  Total.Deaths  No.Injured  No.Homeless  Total.Affected  Total.Damages...000.US..  Reconstruction.Costs...000.US..  Insured.Damages...000.US..\n",
            "  12   1  Total.Deaths  No.Injured  No.Homeless  Total.Affected  Total.Damages...000.US..  Reconstruction.Costs...000.US..  Insured.Damages...000.US..\n",
            "  12   2  Total.Deaths  No.Injured  No.Homeless  Total.Affected  Total.Damages...000.US..  Reconstruction.Costs...000.US..  Insured.Damages...000.US..\n",
            "  12   3  Total.Deaths  No.Injured  No.Homeless  Total.Affected  Total.Damages...000.US..  Reconstruction.Costs...000.US..  Insured.Damages...000.US..\n",
            "  12   4  Total.Deaths  No.Injured  No.Homeless  Total.Affected  Total.Damages...000.US..  Reconstruction.Costs...000.US..  Insured.Damages...000.US..\n",
            "  12   5  Total.Deaths  No.Injured  No.Homeless  Total.Affected  Total.Damages...000.US..  Reconstruction.Costs...000.US..  Insured.Damages...000.US..\n",
            "  12   6  Total.Deaths  No.Injured  No.Homeless  Total.Affected  Total.Damages...000.US..  Reconstruction.Costs...000.US..  Insured.Damages...000.US..\n",
            "  13   1  Total.Deaths  No.Injured  No.Homeless  Total.Affected  Total.Damages...000.US..  Reconstruction.Costs...000.US..  Insured.Damages...000.US..\n",
            "  13   2  Total.Deaths  No.Injured  No.Homeless  Total.Affected  Total.Damages...000.US..  Reconstruction.Costs...000.US..  Insured.Damages...000.US..\n",
            "  13   3  Total.Deaths  No.Injured  No.Homeless  Total.Affected  Total.Damages...000.US..  Reconstruction.Costs...000.US..  Insured.Damages...000.US..\n",
            "  13   4  Total.Deaths  No.Injured  No.Homeless  Total.Affected  Total.Damages...000.US..  Reconstruction.Costs...000.US..  Insured.Damages...000.US..\n",
            "  13   5  Total.Deaths  No.Injured  No.Homeless  Total.Affected  Total.Damages...000.US..  Reconstruction.Costs...000.US..  Insured.Damages...000.US..\n",
            "  13   6  Total.Deaths  No.Injured  No.Homeless  Total.Affected  Total.Damages...000.US..  Reconstruction.Costs...000.US..  Insured.Damages...000.US..\n",
            "  14   1  Total.Deaths  No.Injured  No.Homeless  Total.Affected  Total.Damages...000.US..  Reconstruction.Costs...000.US..  Insured.Damages...000.US..\n",
            "  14   2  Total.Deaths  No.Injured  No.Homeless  Total.Affected  Total.Damages...000.US..  Reconstruction.Costs...000.US..  Insured.Damages...000.US..\n",
            "  14   3  Total.Deaths  No.Injured  No.Homeless  Total.Affected  Total.Damages...000.US..  Reconstruction.Costs...000.US..  Insured.Damages...000.US..\n",
            "  14   4  Total.Deaths  No.Injured  No.Homeless  Total.Affected  Total.Damages...000.US..  Reconstruction.Costs...000.US..  Insured.Damages...000.US..\n",
            "  14   5  Total.Deaths  No.Injured  No.Homeless  Total.Affected  Total.Damages...000.US..  Reconstruction.Costs...000.US..  Insured.Damages...000.US..\n",
            "  14   6  Total.Deaths  No.Injured  No.Homeless  Total.Affected  Total.Damages...000.US..  Reconstruction.Costs...000.US..  Insured.Damages...000.US..\n",
            "  15   1  Total.Deaths  No.Injured  No.Homeless  Total.Affected  Total.Damages...000.US..  Reconstruction.Costs...000.US..  Insured.Damages...000.US..\n",
            "  15   2  Total.Deaths  No.Injured  No.Homeless  Total.Affected  Total.Damages...000.US..  Reconstruction.Costs...000.US..  Insured.Damages...000.US..\n",
            "  15   3  Total.Deaths  No.Injured  No.Homeless  Total.Affected  Total.Damages...000.US..  Reconstruction.Costs...000.US..  Insured.Damages...000.US..\n",
            "  15   4  Total.Deaths  No.Injured  No.Homeless  Total.Affected  Total.Damages...000.US..  Reconstruction.Costs...000.US..  Insured.Damages...000.US..\n",
            "  15   5  Total.Deaths  No.Injured  No.Homeless  Total.Affected  Total.Damages...000.US..  Reconstruction.Costs...000.US..  Insured.Damages...000.US..\n",
            "  15   6  Total.Deaths  No.Injured  No.Homeless  Total.Affected  Total.Damages...000.US..  Reconstruction.Costs...000.US..  Insured.Damages...000.US..\n",
            "  16   1  Total.Deaths  No.Injured  No.Homeless  Total.Affected  Total.Damages...000.US..  Reconstruction.Costs...000.US..  Insured.Damages...000.US..\n",
            "  16   2  Total.Deaths  No.Injured  No.Homeless  Total.Affected  Total.Damages...000.US..  Reconstruction.Costs...000.US..  Insured.Damages...000.US..\n",
            "  16   3  Total.Deaths  No.Injured  No.Homeless  Total.Affected  Total.Damages...000.US..  Reconstruction.Costs...000.US..  Insured.Damages...000.US..\n",
            "  16   4  Total.Deaths  No.Injured  No.Homeless  Total.Affected  Total.Damages...000.US..  Reconstruction.Costs...000.US..  Insured.Damages...000.US..\n",
            "  16   5  Total.Deaths  No.Injured  No.Homeless  Total.Affected  Total.Damages...000.US..  Reconstruction.Costs...000.US..  Insured.Damages...000.US..\n",
            "  16   6  Total.Deaths  No.Injured  No.Homeless  Total.Affected  Total.Damages...000.US..  Reconstruction.Costs...000.US..  Insured.Damages...000.US..\n",
            "  17   1  Total.Deaths  No.Injured  No.Homeless  Total.Affected  Total.Damages...000.US..  Reconstruction.Costs...000.US..  Insured.Damages...000.US..\n",
            "  17   2  Total.Deaths  No.Injured  No.Homeless  Total.Affected  Total.Damages...000.US..  Reconstruction.Costs...000.US..  Insured.Damages...000.US..\n",
            "  17   3  Total.Deaths  No.Injured  No.Homeless  Total.Affected  Total.Damages...000.US..  Reconstruction.Costs...000.US..  Insured.Damages...000.US..\n",
            "  17   4  Total.Deaths  No.Injured  No.Homeless  Total.Affected  Total.Damages...000.US..  Reconstruction.Costs...000.US..  Insured.Damages...000.US..\n",
            "  17   5  Total.Deaths  No.Injured  No.Homeless  Total.Affected  Total.Damages...000.US..  Reconstruction.Costs...000.US..  Insured.Damages...000.US..\n",
            "  17   6  Total.Deaths  No.Injured  No.Homeless  Total.Affected  Total.Damages...000.US..  Reconstruction.Costs...000.US..  Insured.Damages...000.US..\n",
            "  18   1  Total.Deaths  No.Injured  No.Homeless  Total.Affected  Total.Damages...000.US..  Reconstruction.Costs...000.US..  Insured.Damages...000.US..\n",
            "  18   2  Total.Deaths  No.Injured  No.Homeless  Total.Affected  Total.Damages...000.US..  Reconstruction.Costs...000.US..  Insured.Damages...000.US..\n",
            "  18   3  Total.Deaths  No.Injured  No.Homeless  Total.Affected  Total.Damages...000.US..  Reconstruction.Costs...000.US..  Insured.Damages...000.US..\n",
            "  18   4  Total.Deaths  No.Injured  No.Homeless  Total.Affected  Total.Damages...000.US..  Reconstruction.Costs...000.US..  Insured.Damages...000.US..\n",
            "  18   5  Total.Deaths  No.Injured  No.Homeless  Total.Affected  Total.Damages...000.US..  Reconstruction.Costs...000.US..  Insured.Damages...000.US..\n",
            "  18   6  Total.Deaths  No.Injured  No.Homeless  Total.Affected  Total.Damages...000.US..  Reconstruction.Costs...000.US..  Insured.Damages...000.US..\n",
            "  19   1  Total.Deaths  No.Injured  No.Homeless  Total.Affected  Total.Damages...000.US..  Reconstruction.Costs...000.US..  Insured.Damages...000.US..\n",
            "  19   2  Total.Deaths  No.Injured  No.Homeless  Total.Affected  Total.Damages...000.US..  Reconstruction.Costs...000.US..  Insured.Damages...000.US..\n",
            "  19   3  Total.Deaths  No.Injured  No.Homeless  Total.Affected  Total.Damages...000.US..  Reconstruction.Costs...000.US..  Insured.Damages...000.US..\n",
            "  19   4  Total.Deaths  No.Injured  No.Homeless  Total.Affected  Total.Damages...000.US..  Reconstruction.Costs...000.US..  Insured.Damages...000.US..\n",
            "  19   5  Total.Deaths  No.Injured  No.Homeless  Total.Affected  Total.Damages...000.US..  Reconstruction.Costs...000.US..  Insured.Damages...000.US..\n",
            "  19   6  Total.Deaths  No.Injured  No.Homeless  Total.Affected  Total.Damages...000.US..  Reconstruction.Costs...000.US..  Insured.Damages...000.US..\n",
            "  20   1  Total.Deaths  No.Injured  No.Homeless  Total.Affected  Total.Damages...000.US..  Reconstruction.Costs...000.US..  Insured.Damages...000.US..\n",
            "  20   2  Total.Deaths  No.Injured  No.Homeless  Total.Affected  Total.Damages...000.US..  Reconstruction.Costs...000.US..  Insured.Damages...000.US..\n",
            "  20   3  Total.Deaths  No.Injured  No.Homeless  Total.Affected  Total.Damages...000.US..  Reconstruction.Costs...000.US..  Insured.Damages...000.US..\n",
            "  20   4  Total.Deaths  No.Injured  No.Homeless  Total.Affected  Total.Damages...000.US..  Reconstruction.Costs...000.US..  Insured.Damages...000.US..\n",
            "  20   5  Total.Deaths  No.Injured  No.Homeless  Total.Affected  Total.Damages...000.US..  Reconstruction.Costs...000.US..  Insured.Damages...000.US..\n",
            "  20   6  Total.Deaths  No.Injured  No.Homeless  Total.Affected  Total.Damages...000.US..  Reconstruction.Costs...000.US..  Insured.Damages...000.US..\n",
            "  21   1  Total.Deaths  No.Injured  No.Homeless  Total.Affected  Total.Damages...000.US..  Reconstruction.Costs...000.US..  Insured.Damages...000.US..\n",
            "  21   2  Total.Deaths  No.Injured  No.Homeless  Total.Affected  Total.Damages...000.US..  Reconstruction.Costs...000.US..  Insured.Damages...000.US..\n",
            "  21   3  Total.Deaths  No.Injured  No.Homeless  Total.Affected  Total.Damages...000.US..  Reconstruction.Costs...000.US..  Insured.Damages...000.US..\n",
            "  21   4  Total.Deaths  No.Injured  No.Homeless  Total.Affected  Total.Damages...000.US..  Reconstruction.Costs...000.US..  Insured.Damages...000.US..\n",
            "  21   5  Total.Deaths  No.Injured  No.Homeless  Total.Affected  Total.Damages...000.US..  Reconstruction.Costs...000.US..  Insured.Damages...000.US..\n",
            "  21   6  Total.Deaths  No.Injured  No.Homeless  Total.Affected  Total.Damages...000.US..  Reconstruction.Costs...000.US..  Insured.Damages...000.US..\n",
            "  22   1  Total.Deaths  No.Injured  No.Homeless  Total.Affected  Total.Damages...000.US..  Reconstruction.Costs...000.US..  Insured.Damages...000.US..\n",
            "  22   2  Total.Deaths  No.Injured  No.Homeless  Total.Affected  Total.Damages...000.US..  Reconstruction.Costs...000.US..  Insured.Damages...000.US..\n",
            "  22   3  Total.Deaths  No.Injured  No.Homeless  Total.Affected  Total.Damages...000.US..  Reconstruction.Costs...000.US..  Insured.Damages...000.US..\n",
            "  22   4  Total.Deaths  No.Injured  No.Homeless  Total.Affected  Total.Damages...000.US..  Reconstruction.Costs...000.US..  Insured.Damages...000.US..\n",
            "  22   5  Total.Deaths  No.Injured  No.Homeless  Total.Affected  Total.Damages...000.US..  Reconstruction.Costs...000.US..  Insured.Damages...000.US..\n",
            "  22   6  Total.Deaths  No.Injured  No.Homeless  Total.Affected  Total.Damages...000.US..  Reconstruction.Costs...000.US..  Insured.Damages...000.US..\n",
            "  23   1  Total.Deaths  No.Injured  No.Homeless  Total.Affected  Total.Damages...000.US..  Reconstruction.Costs...000.US..  Insured.Damages...000.US..\n",
            "  23   2  Total.Deaths  No.Injured  No.Homeless  Total.Affected  Total.Damages...000.US..  Reconstruction.Costs...000.US..  Insured.Damages...000.US..\n",
            "  23   3  Total.Deaths  No.Injured  No.Homeless  Total.Affected  Total.Damages...000.US..  Reconstruction.Costs...000.US..  Insured.Damages...000.US..\n",
            "  23   4  Total.Deaths  No.Injured  No.Homeless  Total.Affected  Total.Damages...000.US..  Reconstruction.Costs...000.US..  Insured.Damages...000.US..\n",
            "  23   5  Total.Deaths  No.Injured  No.Homeless  Total.Affected  Total.Damages...000.US..  Reconstruction.Costs...000.US..  Insured.Damages...000.US..\n",
            "  23   6  Total.Deaths  No.Injured  No.Homeless  Total.Affected  Total.Damages...000.US..  Reconstruction.Costs...000.US..  Insured.Damages...000.US..\n",
            "  24   1  Total.Deaths  No.Injured  No.Homeless  Total.Affected  Total.Damages...000.US..  Reconstruction.Costs...000.US..  Insured.Damages...000.US..\n",
            "  24   2  Total.Deaths  No.Injured  No.Homeless  Total.Affected  Total.Damages...000.US..  Reconstruction.Costs...000.US..  Insured.Damages...000.US..\n",
            "  24   3  Total.Deaths  No.Injured  No.Homeless  Total.Affected  Total.Damages...000.US..  Reconstruction.Costs...000.US..  Insured.Damages...000.US..\n",
            "  24   4  Total.Deaths  No.Injured  No.Homeless  Total.Affected  Total.Damages...000.US..  Reconstruction.Costs...000.US..  Insured.Damages...000.US..\n",
            "  24   5  Total.Deaths  No.Injured  No.Homeless  Total.Affected  Total.Damages...000.US..  Reconstruction.Costs...000.US..  Insured.Damages...000.US..\n",
            "  24   6  Total.Deaths  No.Injured  No.Homeless  Total.Affected  Total.Damages...000.US..  Reconstruction.Costs...000.US..  Insured.Damages...000.US..\n",
            "  25   1  Total.Deaths  No.Injured  No.Homeless  Total.Affected  Total.Damages...000.US..  Reconstruction.Costs...000.US..  Insured.Damages...000.US..\n",
            "  25   2  Total.Deaths  No.Injured  No.Homeless  Total.Affected  Total.Damages...000.US..  Reconstruction.Costs...000.US..  Insured.Damages...000.US..\n",
            "  25   3  Total.Deaths  No.Injured  No.Homeless  Total.Affected  Total.Damages...000.US..  Reconstruction.Costs...000.US..  Insured.Damages...000.US..\n",
            "  25   4  Total.Deaths  No.Injured  No.Homeless  Total.Affected  Total.Damages...000.US..  Reconstruction.Costs...000.US..  Insured.Damages...000.US..\n",
            "  25   5  Total.Deaths  No.Injured  No.Homeless  Total.Affected  Total.Damages...000.US..  Reconstruction.Costs...000.US..  Insured.Damages...000.US..\n",
            "  25   6  Total.Deaths  No.Injured  No.Homeless  Total.Affected  Total.Damages...000.US..  Reconstruction.Costs...000.US..  Insured.Damages...000.US..\n",
            "  26   1  Total.Deaths  No.Injured  No.Homeless  Total.Affected  Total.Damages...000.US..  Reconstruction.Costs...000.US..  Insured.Damages...000.US..\n",
            "  26   2  Total.Deaths  No.Injured  No.Homeless  Total.Affected  Total.Damages...000.US..  Reconstruction.Costs...000.US..  Insured.Damages...000.US..\n",
            "  26   3  Total.Deaths  No.Injured  No.Homeless  Total.Affected  Total.Damages...000.US..  Reconstruction.Costs...000.US..  Insured.Damages...000.US..\n",
            "  26   4  Total.Deaths  No.Injured  No.Homeless  Total.Affected  Total.Damages...000.US..  Reconstruction.Costs...000.US..  Insured.Damages...000.US..\n",
            "  26   5  Total.Deaths  No.Injured  No.Homeless  Total.Affected  Total.Damages...000.US..  Reconstruction.Costs...000.US..  Insured.Damages...000.US..\n",
            "  26   6  Total.Deaths  No.Injured  No.Homeless  Total.Affected  Total.Damages...000.US..  Reconstruction.Costs...000.US..  Insured.Damages...000.US..\n",
            "  27   1  Total.Deaths  No.Injured  No.Homeless  Total.Affected  Total.Damages...000.US..  Reconstruction.Costs...000.US..  Insured.Damages...000.US..\n",
            "  27   2  Total.Deaths  No.Injured  No.Homeless  Total.Affected  Total.Damages...000.US..  Reconstruction.Costs...000.US..  Insured.Damages...000.US..\n",
            "  27   3  Total.Deaths  No.Injured  No.Homeless  Total.Affected  Total.Damages...000.US..  Reconstruction.Costs...000.US..  Insured.Damages...000.US..\n",
            "  27   4  Total.Deaths  No.Injured  No.Homeless  Total.Affected  Total.Damages...000.US..  Reconstruction.Costs...000.US..  Insured.Damages...000.US..\n",
            "  27   5  Total.Deaths  No.Injured  No.Homeless  Total.Affected  Total.Damages...000.US..  Reconstruction.Costs...000.US..  Insured.Damages...000.US..\n",
            "  27   6  Total.Deaths  No.Injured  No.Homeless  Total.Affected  Total.Damages...000.US..  Reconstruction.Costs...000.US..  Insured.Damages...000.US..\n",
            "  28   1  Total.Deaths  No.Injured  No.Homeless  Total.Affected  Total.Damages...000.US..  Reconstruction.Costs...000.US..  Insured.Damages...000.US..\n",
            "  28   2  Total.Deaths  No.Injured  No.Homeless  Total.Affected  Total.Damages...000.US..  Reconstruction.Costs...000.US..  Insured.Damages...000.US..\n",
            "  28   3  Total.Deaths  No.Injured  No.Homeless  Total.Affected  Total.Damages...000.US..  Reconstruction.Costs...000.US..  Insured.Damages...000.US..\n",
            "  28   4  Total.Deaths  No.Injured  No.Homeless  Total.Affected  Total.Damages...000.US..  Reconstruction.Costs...000.US..  Insured.Damages...000.US..\n",
            "  28   5  Total.Deaths  No.Injured  No.Homeless  Total.Affected  Total.Damages...000.US..  Reconstruction.Costs...000.US..  Insured.Damages...000.US..\n",
            "  28   6  Total.Deaths  No.Injured  No.Homeless  Total.Affected  Total.Damages...000.US..  Reconstruction.Costs...000.US..  Insured.Damages...000.US..\n",
            "  29   1  Total.Deaths  No.Injured  No.Homeless  Total.Affected  Total.Damages...000.US..  Reconstruction.Costs...000.US..  Insured.Damages...000.US..\n",
            "  29   2  Total.Deaths  No.Injured  No.Homeless  Total.Affected  Total.Damages...000.US..  Reconstruction.Costs...000.US..  Insured.Damages...000.US..\n",
            "  29   3  Total.Deaths  No.Injured  No.Homeless  Total.Affected  Total.Damages...000.US..  Reconstruction.Costs...000.US..  Insured.Damages...000.US..\n",
            "  29   4  Total.Deaths  No.Injured  No.Homeless  Total.Affected  Total.Damages...000.US..  Reconstruction.Costs...000.US..  Insured.Damages...000.US..\n",
            "  29   5  Total.Deaths  No.Injured  No.Homeless  Total.Affected  Total.Damages...000.US..  Reconstruction.Costs...000.US..  Insured.Damages...000.US..\n",
            "  29   6  Total.Deaths  No.Injured  No.Homeless  Total.Affected  Total.Damages...000.US..  Reconstruction.Costs...000.US..  Insured.Damages...000.US..\n",
            "  30   1  Total.Deaths  No.Injured  No.Homeless  Total.Affected  Total.Damages...000.US..  Reconstruction.Costs...000.US..  Insured.Damages...000.US..\n",
            "  30   2  Total.Deaths  No.Injured  No.Homeless  Total.Affected  Total.Damages...000.US..  Reconstruction.Costs...000.US..  Insured.Damages...000.US..\n",
            "  30   3  Total.Deaths  No.Injured  No.Homeless  Total.Affected  Total.Damages...000.US..  Reconstruction.Costs...000.US..  Insured.Damages...000.US..\n",
            "  30   4  Total.Deaths  No.Injured  No.Homeless  Total.Affected  Total.Damages...000.US..  Reconstruction.Costs...000.US..  Insured.Damages...000.US..\n",
            "  30   5  Total.Deaths  No.Injured  No.Homeless  Total.Affected  Total.Damages...000.US..  Reconstruction.Costs...000.US..  Insured.Damages...000.US..\n",
            "  30   6  Total.Deaths  No.Injured  No.Homeless  Total.Affected  Total.Damages...000.US..  Reconstruction.Costs...000.US..  Insured.Damages...000.US..\n",
            "  31   1  Total.Deaths  No.Injured  No.Homeless  Total.Affected  Total.Damages...000.US..  Reconstruction.Costs...000.US..  Insured.Damages...000.US..\n",
            "  31   2  Total.Deaths  No.Injured  No.Homeless  Total.Affected  Total.Damages...000.US..  Reconstruction.Costs...000.US..  Insured.Damages...000.US..\n",
            "  31   3  Total.Deaths  No.Injured  No.Homeless  Total.Affected  Total.Damages...000.US..  Reconstruction.Costs...000.US..  Insured.Damages...000.US..\n",
            "  31   4  Total.Deaths  No.Injured  No.Homeless  Total.Affected  Total.Damages...000.US..  Reconstruction.Costs...000.US..  Insured.Damages...000.US..\n",
            "  31   5  Total.Deaths  No.Injured  No.Homeless  Total.Affected  Total.Damages...000.US..  Reconstruction.Costs...000.US..  Insured.Damages...000.US..\n",
            "  31   6  Total.Deaths  No.Injured  No.Homeless  Total.Affected  Total.Damages...000.US..  Reconstruction.Costs...000.US..  Insured.Damages...000.US..\n",
            "  32   1  Total.Deaths  No.Injured  No.Homeless  Total.Affected  Total.Damages...000.US..  Reconstruction.Costs...000.US..  Insured.Damages...000.US..\n",
            "  32   2  Total.Deaths  No.Injured  No.Homeless  Total.Affected  Total.Damages...000.US..  Reconstruction.Costs...000.US..  Insured.Damages...000.US..\n",
            "  32   3  Total.Deaths  No.Injured  No.Homeless  Total.Affected  Total.Damages...000.US..  Reconstruction.Costs...000.US..  Insured.Damages...000.US..\n",
            "  32   4  Total.Deaths  No.Injured  No.Homeless  Total.Affected  Total.Damages...000.US..  Reconstruction.Costs...000.US..  Insured.Damages...000.US..\n",
            "  32   5  Total.Deaths  No.Injured  No.Homeless  Total.Affected  Total.Damages...000.US..  Reconstruction.Costs...000.US..  Insured.Damages...000.US..\n",
            "  32   6  Total.Deaths  No.Injured  No.Homeless  Total.Affected  Total.Damages...000.US..  Reconstruction.Costs...000.US..  Insured.Damages...000.US..\n",
            "  33   1  Total.Deaths  No.Injured  No.Homeless  Total.Affected  Total.Damages...000.US..  Reconstruction.Costs...000.US..  Insured.Damages...000.US..\n",
            "  33   2  Total.Deaths  No.Injured  No.Homeless  Total.Affected  Total.Damages...000.US..  Reconstruction.Costs...000.US..  Insured.Damages...000.US..\n",
            "  33   3  Total.Deaths  No.Injured  No.Homeless  Total.Affected  Total.Damages...000.US..  Reconstruction.Costs...000.US..  Insured.Damages...000.US..\n",
            "  33   4  Total.Deaths  No.Injured  No.Homeless  Total.Affected  Total.Damages...000.US..  Reconstruction.Costs...000.US..  Insured.Damages...000.US..\n",
            "  33   5  Total.Deaths  No.Injured  No.Homeless  Total.Affected  Total.Damages...000.US..  Reconstruction.Costs...000.US..  Insured.Damages...000.US..\n",
            "  33   6  Total.Deaths  No.Injured  No.Homeless  Total.Affected  Total.Damages...000.US..  Reconstruction.Costs...000.US..  Insured.Damages...000.US..\n",
            "  34   1  Total.Deaths  No.Injured  No.Homeless  Total.Affected  Total.Damages...000.US..  Reconstruction.Costs...000.US..  Insured.Damages...000.US..\n",
            "  34   2  Total.Deaths  No.Injured  No.Homeless  Total.Affected  Total.Damages...000.US..  Reconstruction.Costs...000.US..  Insured.Damages...000.US..\n",
            "  34   3  Total.Deaths  No.Injured  No.Homeless  Total.Affected  Total.Damages...000.US..  Reconstruction.Costs...000.US..  Insured.Damages...000.US..\n",
            "  34   4  Total.Deaths  No.Injured  No.Homeless  Total.Affected  Total.Damages...000.US..  Reconstruction.Costs...000.US..  Insured.Damages...000.US..\n",
            "  34   5  Total.Deaths  No.Injured  No.Homeless  Total.Affected  Total.Damages...000.US..  Reconstruction.Costs...000.US..  Insured.Damages...000.US..\n",
            "  34   6  Total.Deaths  No.Injured  No.Homeless  Total.Affected  Total.Damages...000.US..  Reconstruction.Costs...000.US..  Insured.Damages...000.US..\n",
            "  35   1  Total.Deaths  No.Injured  No.Homeless  Total.Affected  Total.Damages...000.US..  Reconstruction.Costs...000.US..  Insured.Damages...000.US..\n",
            "  35   2  Total.Deaths  No.Injured  No.Homeless  Total.Affected  Total.Damages...000.US..  Reconstruction.Costs...000.US..  Insured.Damages...000.US..\n",
            "  35   3  Total.Deaths  No.Injured  No.Homeless  Total.Affected  Total.Damages...000.US..  Reconstruction.Costs...000.US..  Insured.Damages...000.US..\n",
            "  35   4  Total.Deaths  No.Injured  No.Homeless  Total.Affected  Total.Damages...000.US..  Reconstruction.Costs...000.US..  Insured.Damages...000.US..\n",
            "  35   5  Total.Deaths  No.Injured  No.Homeless  Total.Affected  Total.Damages...000.US..  Reconstruction.Costs...000.US..  Insured.Damages...000.US..\n",
            "  35   6  Total.Deaths  No.Injured  No.Homeless  Total.Affected  Total.Damages...000.US..  Reconstruction.Costs...000.US..  Insured.Damages...000.US..\n",
            "  36   1  Total.Deaths  No.Injured  No.Homeless  Total.Affected  Total.Damages...000.US..  Reconstruction.Costs...000.US..  Insured.Damages...000.US..\n",
            "  36   2  Total.Deaths  No.Injured  No.Homeless  Total.Affected  Total.Damages...000.US..  Reconstruction.Costs...000.US..  Insured.Damages...000.US..\n",
            "  36   3  Total.Deaths  No.Injured  No.Homeless  Total.Affected  Total.Damages...000.US..  Reconstruction.Costs...000.US..  Insured.Damages...000.US..\n",
            "  36   4  Total.Deaths  No.Injured  No.Homeless  Total.Affected  Total.Damages...000.US..  Reconstruction.Costs...000.US..  Insured.Damages...000.US..\n",
            "  36   5  Total.Deaths  No.Injured  No.Homeless  Total.Affected  Total.Damages...000.US..  Reconstruction.Costs...000.US..  Insured.Damages...000.US..\n",
            "  36   6  Total.Deaths  No.Injured  No.Homeless  Total.Affected  Total.Damages...000.US..  Reconstruction.Costs...000.US..  Insured.Damages...000.US..\n",
            "  37   1  Total.Deaths  No.Injured  No.Homeless  Total.Affected  Total.Damages...000.US..  Reconstruction.Costs...000.US..  Insured.Damages...000.US..\n",
            "  37   2  Total.Deaths  No.Injured  No.Homeless  Total.Affected  Total.Damages...000.US..  Reconstruction.Costs...000.US..  Insured.Damages...000.US..\n",
            "  37   3  Total.Deaths  No.Injured  No.Homeless  Total.Affected  Total.Damages...000.US..  Reconstruction.Costs...000.US..  Insured.Damages...000.US..\n",
            "  37   4  Total.Deaths  No.Injured  No.Homeless  Total.Affected  Total.Damages...000.US..  Reconstruction.Costs...000.US..  Insured.Damages...000.US..\n",
            "  37   5  Total.Deaths  No.Injured  No.Homeless  Total.Affected  Total.Damages...000.US..  Reconstruction.Costs...000.US..  Insured.Damages...000.US..\n",
            "  37   6  Total.Deaths  No.Injured  No.Homeless  Total.Affected  Total.Damages...000.US..  Reconstruction.Costs...000.US..  Insured.Damages...000.US..\n",
            "  38   1  Total.Deaths  No.Injured  No.Homeless  Total.Affected  Total.Damages...000.US..  Reconstruction.Costs...000.US..  Insured.Damages...000.US..\n",
            "  38   2  Total.Deaths  No.Injured  No.Homeless  Total.Affected  Total.Damages...000.US..  Reconstruction.Costs...000.US..  Insured.Damages...000.US..\n",
            "  38   3  Total.Deaths  No.Injured  No.Homeless  Total.Affected  Total.Damages...000.US..  Reconstruction.Costs...000.US..  Insured.Damages...000.US..\n",
            "  38   4  Total.Deaths  No.Injured  No.Homeless  Total.Affected  Total.Damages...000.US..  Reconstruction.Costs...000.US..  Insured.Damages...000.US..\n",
            "  38   5  Total.Deaths  No.Injured  No.Homeless  Total.Affected  Total.Damages...000.US..  Reconstruction.Costs...000.US..  Insured.Damages...000.US..\n",
            "  38   6  Total.Deaths  No.Injured  No.Homeless  Total.Affected  Total.Damages...000.US..  Reconstruction.Costs...000.US..  Insured.Damages...000.US..\n",
            "  39   1  Total.Deaths  No.Injured  No.Homeless  Total.Affected  Total.Damages...000.US..  Reconstruction.Costs...000.US..  Insured.Damages...000.US..\n",
            "  39   2  Total.Deaths  No.Injured  No.Homeless  Total.Affected  Total.Damages...000.US..  Reconstruction.Costs...000.US..  Insured.Damages...000.US..\n",
            "  39   3  Total.Deaths  No.Injured  No.Homeless  Total.Affected  Total.Damages...000.US..  Reconstruction.Costs...000.US..  Insured.Damages...000.US..\n",
            "  39   4  Total.Deaths  No.Injured  No.Homeless  Total.Affected  Total.Damages...000.US..  Reconstruction.Costs...000.US..  Insured.Damages...000.US..\n",
            "  39   5  Total.Deaths  No.Injured  No.Homeless  Total.Affected  Total.Damages...000.US..  Reconstruction.Costs...000.US..  Insured.Damages...000.US..\n",
            "  39   6  Total.Deaths  No.Injured  No.Homeless  Total.Affected  Total.Damages...000.US..  Reconstruction.Costs...000.US..  Insured.Damages...000.US..\n",
            "  40   1  Total.Deaths  No.Injured  No.Homeless  Total.Affected  Total.Damages...000.US..  Reconstruction.Costs...000.US..  Insured.Damages...000.US..\n",
            "  40   2  Total.Deaths  No.Injured  No.Homeless  Total.Affected  Total.Damages...000.US..  Reconstruction.Costs...000.US..  Insured.Damages...000.US..\n",
            "  40   3  Total.Deaths  No.Injured  No.Homeless  Total.Affected  Total.Damages...000.US..  Reconstruction.Costs...000.US..  Insured.Damages...000.US..\n",
            "  40   4  Total.Deaths  No.Injured  No.Homeless  Total.Affected  Total.Damages...000.US..  Reconstruction.Costs...000.US..  Insured.Damages...000.US..\n",
            "  40   5  Total.Deaths  No.Injured  No.Homeless  Total.Affected  Total.Damages...000.US..  Reconstruction.Costs...000.US..  Insured.Damages...000.US..\n",
            "  40   6  Total.Deaths  No.Injured  No.Homeless  Total.Affected  Total.Damages...000.US..  Reconstruction.Costs...000.US..  Insured.Damages...000.US..\n",
            "  41   1  Total.Deaths  No.Injured  No.Homeless  Total.Affected  Total.Damages...000.US..  Reconstruction.Costs...000.US..  Insured.Damages...000.US..\n",
            "  41   2  Total.Deaths  No.Injured  No.Homeless  Total.Affected  Total.Damages...000.US..  Reconstruction.Costs...000.US..  Insured.Damages...000.US..\n",
            "  41   3  Total.Deaths  No.Injured  No.Homeless  Total.Affected  Total.Damages...000.US..  Reconstruction.Costs...000.US..  Insured.Damages...000.US..\n",
            "  41   4  Total.Deaths  No.Injured  No.Homeless  Total.Affected  Total.Damages...000.US..  Reconstruction.Costs...000.US..  Insured.Damages...000.US..\n",
            "  41   5  Total.Deaths  No.Injured  No.Homeless  Total.Affected  Total.Damages...000.US..  Reconstruction.Costs...000.US..  Insured.Damages...000.US..\n",
            "  41   6  Total.Deaths  No.Injured  No.Homeless  Total.Affected  Total.Damages...000.US..  Reconstruction.Costs...000.US..  Insured.Damages...000.US..\n",
            "  42   1  Total.Deaths  No.Injured  No.Homeless  Total.Affected  Total.Damages...000.US..  Reconstruction.Costs...000.US..  Insured.Damages...000.US..\n",
            "  42   2  Total.Deaths  No.Injured  No.Homeless  Total.Affected  Total.Damages...000.US..  Reconstruction.Costs...000.US..  Insured.Damages...000.US..\n",
            "  42   3  Total.Deaths  No.Injured  No.Homeless  Total.Affected  Total.Damages...000.US..  Reconstruction.Costs...000.US..  Insured.Damages...000.US..\n",
            "  42   4  Total.Deaths  No.Injured  No.Homeless  Total.Affected  Total.Damages...000.US..  Reconstruction.Costs...000.US..  Insured.Damages...000.US..\n",
            "  42   5  Total.Deaths  No.Injured  No.Homeless  Total.Affected  Total.Damages...000.US..  Reconstruction.Costs...000.US..  Insured.Damages...000.US..\n",
            "  42   6  Total.Deaths  No.Injured  No.Homeless  Total.Affected  Total.Damages...000.US..  Reconstruction.Costs...000.US..  Insured.Damages...000.US..\n",
            "  43   1  Total.Deaths  No.Injured  No.Homeless  Total.Affected  Total.Damages...000.US..  Reconstruction.Costs...000.US..  Insured.Damages...000.US..\n",
            "  43   2  Total.Deaths  No.Injured  No.Homeless  Total.Affected  Total.Damages...000.US..  Reconstruction.Costs...000.US..  Insured.Damages...000.US..\n",
            "  43   3  Total.Deaths  No.Injured  No.Homeless  Total.Affected  Total.Damages...000.US..  Reconstruction.Costs...000.US..  Insured.Damages...000.US..\n",
            "  43   4  Total.Deaths  No.Injured  No.Homeless  Total.Affected  Total.Damages...000.US..  Reconstruction.Costs...000.US..  Insured.Damages...000.US..\n",
            "  43   5  Total.Deaths  No.Injured  No.Homeless  Total.Affected  Total.Damages...000.US..  Reconstruction.Costs...000.US..  Insured.Damages...000.US..\n",
            "  43   6  Total.Deaths  No.Injured  No.Homeless  Total.Affected  Total.Damages...000.US..  Reconstruction.Costs...000.US..  Insured.Damages...000.US..\n",
            "  44   1  Total.Deaths  No.Injured  No.Homeless  Total.Affected  Total.Damages...000.US..  Reconstruction.Costs...000.US..  Insured.Damages...000.US..\n",
            "  44   2  Total.Deaths  No.Injured  No.Homeless  Total.Affected  Total.Damages...000.US..  Reconstruction.Costs...000.US..  Insured.Damages...000.US..\n",
            "  44   3  Total.Deaths  No.Injured  No.Homeless  Total.Affected  Total.Damages...000.US..  Reconstruction.Costs...000.US..  Insured.Damages...000.US..\n",
            "  44   4  Total.Deaths  No.Injured  No.Homeless  Total.Affected  Total.Damages...000.US..  Reconstruction.Costs...000.US..  Insured.Damages...000.US..\n",
            "  44   5  Total.Deaths  No.Injured  No.Homeless  Total.Affected  Total.Damages...000.US..  Reconstruction.Costs...000.US..  Insured.Damages...000.US..\n",
            "  44   6  Total.Deaths  No.Injured  No.Homeless  Total.Affected  Total.Damages...000.US..  Reconstruction.Costs...000.US..  Insured.Damages...000.US..\n",
            "  45   1  Total.Deaths  No.Injured  No.Homeless  Total.Affected  Total.Damages...000.US..  Reconstruction.Costs...000.US..  Insured.Damages...000.US..\n",
            "  45   2  Total.Deaths  No.Injured  No.Homeless  Total.Affected  Total.Damages...000.US..  Reconstruction.Costs...000.US..  Insured.Damages...000.US..\n",
            "  45   3  Total.Deaths  No.Injured  No.Homeless  Total.Affected  Total.Damages...000.US..  Reconstruction.Costs...000.US..  Insured.Damages...000.US..\n",
            "  45   4  Total.Deaths  No.Injured  No.Homeless  Total.Affected  Total.Damages...000.US..  Reconstruction.Costs...000.US..  Insured.Damages...000.US..\n",
            "  45   5  Total.Deaths  No.Injured  No.Homeless  Total.Affected  Total.Damages...000.US..  Reconstruction.Costs...000.US..  Insured.Damages...000.US..\n",
            "  45   6  Total.Deaths  No.Injured  No.Homeless  Total.Affected  Total.Damages...000.US..  Reconstruction.Costs...000.US..  Insured.Damages...000.US..\n",
            "  46   1  Total.Deaths  No.Injured  No.Homeless  Total.Affected  Total.Damages...000.US..  Reconstruction.Costs...000.US..  Insured.Damages...000.US..\n",
            "  46   2  Total.Deaths  No.Injured  No.Homeless  Total.Affected  Total.Damages...000.US..  Reconstruction.Costs...000.US..  Insured.Damages...000.US..\n",
            "  46   3  Total.Deaths  No.Injured  No.Homeless  Total.Affected  Total.Damages...000.US..  Reconstruction.Costs...000.US..  Insured.Damages...000.US..\n",
            "  46   4  Total.Deaths  No.Injured  No.Homeless  Total.Affected  Total.Damages...000.US..  Reconstruction.Costs...000.US..  Insured.Damages...000.US..\n",
            "  46   5  Total.Deaths  No.Injured  No.Homeless  Total.Affected  Total.Damages...000.US..  Reconstruction.Costs...000.US..  Insured.Damages...000.US..\n",
            "  46   6  Total.Deaths  No.Injured  No.Homeless  Total.Affected  Total.Damages...000.US..  Reconstruction.Costs...000.US..  Insured.Damages...000.US..\n",
            "  47   1  Total.Deaths  No.Injured  No.Homeless  Total.Affected  Total.Damages...000.US..  Reconstruction.Costs...000.US..  Insured.Damages...000.US..\n",
            "  47   2  Total.Deaths  No.Injured  No.Homeless  Total.Affected  Total.Damages...000.US..  Reconstruction.Costs...000.US..  Insured.Damages...000.US..\n",
            "  47   3  Total.Deaths  No.Injured  No.Homeless  Total.Affected  Total.Damages...000.US..  Reconstruction.Costs...000.US..  Insured.Damages...000.US..\n",
            "  47   4  Total.Deaths  No.Injured  No.Homeless  Total.Affected  Total.Damages...000.US..  Reconstruction.Costs...000.US..  Insured.Damages...000.US..\n",
            "  47   5  Total.Deaths  No.Injured  No.Homeless  Total.Affected  Total.Damages...000.US..  Reconstruction.Costs...000.US..  Insured.Damages...000.US..\n",
            "  47   6  Total.Deaths  No.Injured  No.Homeless  Total.Affected  Total.Damages...000.US..  Reconstruction.Costs...000.US..  Insured.Damages...000.US..\n",
            "  48   1  Total.Deaths  No.Injured  No.Homeless  Total.Affected  Total.Damages...000.US..  Reconstruction.Costs...000.US..  Insured.Damages...000.US..\n",
            "  48   2  Total.Deaths  No.Injured  No.Homeless  Total.Affected  Total.Damages...000.US..  Reconstruction.Costs...000.US..  Insured.Damages...000.US..\n",
            "  48   3  Total.Deaths  No.Injured  No.Homeless  Total.Affected  Total.Damages...000.US..  Reconstruction.Costs...000.US..  Insured.Damages...000.US..\n",
            "  48   4  Total.Deaths  No.Injured  No.Homeless  Total.Affected  Total.Damages...000.US..  Reconstruction.Costs...000.US..  Insured.Damages...000.US..\n",
            "  48   5  Total.Deaths  No.Injured  No.Homeless  Total.Affected  Total.Damages...000.US..  Reconstruction.Costs...000.US..  Insured.Damages...000.US..\n",
            "  48   6  Total.Deaths  No.Injured  No.Homeless  Total.Affected  Total.Damages...000.US..  Reconstruction.Costs...000.US..  Insured.Damages...000.US..\n",
            "  49   1  Total.Deaths  No.Injured  No.Homeless  Total.Affected  Total.Damages...000.US..  Reconstruction.Costs...000.US..  Insured.Damages...000.US..\n",
            "  49   2  Total.Deaths  No.Injured  No.Homeless  Total.Affected  Total.Damages...000.US..  Reconstruction.Costs...000.US..  Insured.Damages...000.US..\n",
            "  49   3  Total.Deaths  No.Injured  No.Homeless  Total.Affected  Total.Damages...000.US..  Reconstruction.Costs...000.US..  Insured.Damages...000.US..\n",
            "  49   4  Total.Deaths  No.Injured  No.Homeless  Total.Affected  Total.Damages...000.US..  Reconstruction.Costs...000.US..  Insured.Damages...000.US..\n",
            "  49   5  Total.Deaths  No.Injured  No.Homeless  Total.Affected  Total.Damages...000.US..  Reconstruction.Costs...000.US..  Insured.Damages...000.US..\n",
            "  49   6  Total.Deaths  No.Injured  No.Homeless  Total.Affected  Total.Damages...000.US..  Reconstruction.Costs...000.US..  Insured.Damages...000.US..\n",
            "  50   1  Total.Deaths  No.Injured  No.Homeless  Total.Affected  Total.Damages...000.US..  Reconstruction.Costs...000.US..  Insured.Damages...000.US..\n",
            "  50   2  Total.Deaths  No.Injured  No.Homeless  Total.Affected  Total.Damages...000.US..  Reconstruction.Costs...000.US..  Insured.Damages...000.US..\n",
            "  50   3  Total.Deaths  No.Injured  No.Homeless  Total.Affected  Total.Damages...000.US..  Reconstruction.Costs...000.US..  Insured.Damages...000.US..\n",
            "  50   4  Total.Deaths  No.Injured  No.Homeless  Total.Affected  Total.Damages...000.US..  Reconstruction.Costs...000.US..  Insured.Damages...000.US..\n",
            "  50   5  Total.Deaths  No.Injured  No.Homeless  Total.Affected  Total.Damages...000.US..  Reconstruction.Costs...000.US..  Insured.Damages...000.US..\n",
            "  50   6  Total.Deaths  No.Injured  No.Homeless  Total.Affected  Total.Damages...000.US..  Reconstruction.Costs...000.US..  Insured.Damages...000.US..\n"
          ]
        },
        {
          "output_type": "stream",
          "name": "stderr",
          "text": [
            "Warning message:\n",
            "“Number of logged events: 47”\n"
          ]
        }
      ]
    },
    {
      "cell_type": "code",
      "source": [
        "completedata<-complete(imputedData, 1)\n",
        "completedata$Year <- as.integer(completedata$Year)\n",
        "completedata$Region <- as.factor(completedata$Region)\n",
        "completedata$Disaster.Type <- as.factor(completedata$Disaster.Type)\n",
        "completedata$Disaster.Subtype <- as.factor(completedata$Disaster.Subtype)\n",
        "completedata$Disaster.Subgroup <- as.factor(completedata$Disaster.Subgroup)\n",
        "completedata$Country <- as.factor(completedata$Country)\n",
        "##dropping Disaster.Subtype to avoid NAs\n",
        "complete2<-subset(completedata, select = c(Disaster.Subgroup, Disaster.Type, Country, Region, Total.Deaths, No.Injured, No.Homeless, Total.Affected, Total.Damages...000.US.., Reconstruction.Costs...000.US.., Insured.Damages...000.US..))\n",
        "\n",
        "head(complete2)"
      ],
      "metadata": {
        "colab": {
          "base_uri": "https://localhost:8080/",
          "height": 428
        },
        "id": "EWYZghGp1JuV",
        "outputId": "7d5824eb-fee5-4823-a77b-f4a8443cf39e"
      },
      "execution_count": 162,
      "outputs": [
        {
          "output_type": "display_data",
          "data": {
            "text/plain": [
              "  Disaster.Subgroup Disaster.Type Country    Region                   \n",
              "1 Hydrological      Flood         Argentina  South America            \n",
              "2 Meteorological    Storm         Australia  Australia and New Zealand\n",
              "3 Hydrological      Flood         Benin      Western Africa           \n",
              "4 Meteorological    Storm         Bangladesh Southern Asia            \n",
              "5 Meteorological    Storm         Bangladesh Southern Asia            \n",
              "6 Hydrological      Flood         Bangladesh Southern Asia            \n",
              "  Total.Deaths No.Injured No.Homeless Total.Affected Total.Damages...000.US..\n",
              "1     36          200      26923           423        25000                  \n",
              "2     13            1        200         35020        72475                  \n",
              "3      9           26        826           450          200                  \n",
              "4 300000         5933     300000       3648000        86400                  \n",
              "5     17           12         75           110       210000                  \n",
              "6   6908       155715     125000      10000000        25000                  \n",
              "  Reconstruction.Costs...000.US.. Insured.Damages...000.US..\n",
              "1  194000                          10000                    \n",
              "2    1510                          60000                    \n",
              "3  150000                          60000                    \n",
              "4  194000                         115000                    \n",
              "5  194000                         200500                    \n",
              "6 9450000                         400000                    "
            ],
            "text/latex": "A data.frame: 6 × 11\n\\begin{tabular}{r|lllllllllll}\n  & Disaster.Subgroup & Disaster.Type & Country & Region & Total.Deaths & No.Injured & No.Homeless & Total.Affected & Total.Damages...000.US.. & Reconstruction.Costs...000.US.. & Insured.Damages...000.US..\\\\\n  & <fct> & <fct> & <fct> & <fct> & <int> & <int> & <int> & <int> & <int> & <int> & <int>\\\\\n\\hline\n\t1 & Hydrological   & Flood & Argentina  & South America             &     36 &    200 &  26923 &      423 &  25000 &  194000 &  10000\\\\\n\t2 & Meteorological & Storm & Australia  & Australia and New Zealand &     13 &      1 &    200 &    35020 &  72475 &    1510 &  60000\\\\\n\t3 & Hydrological   & Flood & Benin      & Western Africa            &      9 &     26 &    826 &      450 &    200 &  150000 &  60000\\\\\n\t4 & Meteorological & Storm & Bangladesh & Southern Asia             & 300000 &   5933 & 300000 &  3648000 &  86400 &  194000 & 115000\\\\\n\t5 & Meteorological & Storm & Bangladesh & Southern Asia             &     17 &     12 &     75 &      110 & 210000 &  194000 & 200500\\\\\n\t6 & Hydrological   & Flood & Bangladesh & Southern Asia             &   6908 & 155715 & 125000 & 10000000 &  25000 & 9450000 & 400000\\\\\n\\end{tabular}\n",
            "text/markdown": "\nA data.frame: 6 × 11\n\n| <!--/--> | Disaster.Subgroup &lt;fct&gt; | Disaster.Type &lt;fct&gt; | Country &lt;fct&gt; | Region &lt;fct&gt; | Total.Deaths &lt;int&gt; | No.Injured &lt;int&gt; | No.Homeless &lt;int&gt; | Total.Affected &lt;int&gt; | Total.Damages...000.US.. &lt;int&gt; | Reconstruction.Costs...000.US.. &lt;int&gt; | Insured.Damages...000.US.. &lt;int&gt; |\n|---|---|---|---|---|---|---|---|---|---|---|---|\n| 1 | Hydrological   | Flood | Argentina  | South America             |     36 |    200 |  26923 |      423 |  25000 |  194000 |  10000 |\n| 2 | Meteorological | Storm | Australia  | Australia and New Zealand |     13 |      1 |    200 |    35020 |  72475 |    1510 |  60000 |\n| 3 | Hydrological   | Flood | Benin      | Western Africa            |      9 |     26 |    826 |      450 |    200 |  150000 |  60000 |\n| 4 | Meteorological | Storm | Bangladesh | Southern Asia             | 300000 |   5933 | 300000 |  3648000 |  86400 |  194000 | 115000 |\n| 5 | Meteorological | Storm | Bangladesh | Southern Asia             |     17 |     12 |     75 |      110 | 210000 |  194000 | 200500 |\n| 6 | Hydrological   | Flood | Bangladesh | Southern Asia             |   6908 | 155715 | 125000 | 10000000 |  25000 | 9450000 | 400000 |\n\n",
            "text/html": [
              "<table class=\"dataframe\">\n",
              "<caption>A data.frame: 6 × 11</caption>\n",
              "<thead>\n",
              "\t<tr><th></th><th scope=col>Disaster.Subgroup</th><th scope=col>Disaster.Type</th><th scope=col>Country</th><th scope=col>Region</th><th scope=col>Total.Deaths</th><th scope=col>No.Injured</th><th scope=col>No.Homeless</th><th scope=col>Total.Affected</th><th scope=col>Total.Damages...000.US..</th><th scope=col>Reconstruction.Costs...000.US..</th><th scope=col>Insured.Damages...000.US..</th></tr>\n",
              "\t<tr><th></th><th scope=col>&lt;fct&gt;</th><th scope=col>&lt;fct&gt;</th><th scope=col>&lt;fct&gt;</th><th scope=col>&lt;fct&gt;</th><th scope=col>&lt;int&gt;</th><th scope=col>&lt;int&gt;</th><th scope=col>&lt;int&gt;</th><th scope=col>&lt;int&gt;</th><th scope=col>&lt;int&gt;</th><th scope=col>&lt;int&gt;</th><th scope=col>&lt;int&gt;</th></tr>\n",
              "</thead>\n",
              "<tbody>\n",
              "\t<tr><th scope=row>1</th><td>Hydrological  </td><td>Flood</td><td>Argentina </td><td>South America            </td><td>    36</td><td>   200</td><td> 26923</td><td>     423</td><td> 25000</td><td> 194000</td><td> 10000</td></tr>\n",
              "\t<tr><th scope=row>2</th><td>Meteorological</td><td>Storm</td><td>Australia </td><td>Australia and New Zealand</td><td>    13</td><td>     1</td><td>   200</td><td>   35020</td><td> 72475</td><td>   1510</td><td> 60000</td></tr>\n",
              "\t<tr><th scope=row>3</th><td>Hydrological  </td><td>Flood</td><td>Benin     </td><td>Western Africa           </td><td>     9</td><td>    26</td><td>   826</td><td>     450</td><td>   200</td><td> 150000</td><td> 60000</td></tr>\n",
              "\t<tr><th scope=row>4</th><td>Meteorological</td><td>Storm</td><td>Bangladesh</td><td>Southern Asia            </td><td>300000</td><td>  5933</td><td>300000</td><td> 3648000</td><td> 86400</td><td> 194000</td><td>115000</td></tr>\n",
              "\t<tr><th scope=row>5</th><td>Meteorological</td><td>Storm</td><td>Bangladesh</td><td>Southern Asia            </td><td>    17</td><td>    12</td><td>    75</td><td>     110</td><td>210000</td><td> 194000</td><td>200500</td></tr>\n",
              "\t<tr><th scope=row>6</th><td>Hydrological  </td><td>Flood</td><td>Bangladesh</td><td>Southern Asia            </td><td>  6908</td><td>155715</td><td>125000</td><td>10000000</td><td> 25000</td><td>9450000</td><td>400000</td></tr>\n",
              "</tbody>\n",
              "</table>\n"
            ]
          },
          "metadata": {}
        }
      ]
    },
    {
      "cell_type": "code",
      "source": [
        "unique(complete2$Region)\n",
        "unique(complete2$Disaster.Type)\n",
        "unique(complete2$Disaster.Subgroup)"
      ],
      "metadata": {
        "colab": {
          "base_uri": "https://localhost:8080/",
          "height": 173
        },
        "id": "_j1exGLu4sIc",
        "outputId": "a4a4053b-e34f-4f96-9bf5-3c8915f92873"
      },
      "execution_count": 163,
      "outputs": [
        {
          "output_type": "display_data",
          "data": {
            "text/plain": [
              " [1] South America             Australia and New Zealand\n",
              " [3] Western Africa            Southern Asia            \n",
              " [5] Caribbean                 Southern Africa          \n",
              " [7] Northern America          Western Europe           \n",
              " [9] Eastern Asia              Central America          \n",
              "[11] Western Asia              Eastern Africa           \n",
              "[13] Eastern Europe            South-Eastern Asia       \n",
              "[15] Middle Africa             Southern Europe          \n",
              "[17] Melanesia                 Northern Europe          \n",
              "[19] Northern Africa           Micronesia               \n",
              "[21] Polynesia                 Russian Federation       \n",
              "[23] Central Asia             \n",
              "23 Levels: Australia and New Zealand Caribbean Central America ... Western Europe"
            ],
            "text/latex": "\\begin{enumerate*}\n\\item South America\n\\item Australia and New Zealand\n\\item Western Africa\n\\item Southern Asia\n\\item Caribbean\n\\item Southern Africa\n\\item Northern America\n\\item Western Europe\n\\item Eastern Asia\n\\item Central America\n\\item Western Asia\n\\item Eastern Africa\n\\item Eastern Europe\n\\item South-Eastern Asia\n\\item Middle Africa\n\\item Southern Europe\n\\item Melanesia\n\\item Northern Europe\n\\item Northern Africa\n\\item Micronesia\n\\item Polynesia\n\\item Russian Federation\n\\item Central Asia\n\\end{enumerate*}\n\n\\emph{Levels}: \\begin{enumerate*}\n\\item 'Australia and New Zealand'\n\\item 'Caribbean'\n\\item 'Central America'\n\\item 'Central Asia'\n\\item 'Eastern Africa'\n\\item 'Eastern Asia'\n\\item 'Eastern Europe'\n\\item 'Melanesia'\n\\item 'Micronesia'\n\\item 'Middle Africa'\n\\item 'Northern Africa'\n\\item 'Northern America'\n\\item 'Northern Europe'\n\\item 'Polynesia'\n\\item 'Russian Federation'\n\\item 'South America'\n\\item 'South-Eastern Asia'\n\\item 'Southern Africa'\n\\item 'Southern Asia'\n\\item 'Southern Europe'\n\\item 'Western Africa'\n\\item 'Western Asia'\n\\item 'Western Europe'\n\\end{enumerate*}\n",
            "text/markdown": "1. South America\n2. Australia and New Zealand\n3. Western Africa\n4. Southern Asia\n5. Caribbean\n6. Southern Africa\n7. Northern America\n8. Western Europe\n9. Eastern Asia\n10. Central America\n11. Western Asia\n12. Eastern Africa\n13. Eastern Europe\n14. South-Eastern Asia\n15. Middle Africa\n16. Southern Europe\n17. Melanesia\n18. Northern Europe\n19. Northern Africa\n20. Micronesia\n21. Polynesia\n22. Russian Federation\n23. Central Asia\n\n\n\n**Levels**: 1. 'Australia and New Zealand'\n2. 'Caribbean'\n3. 'Central America'\n4. 'Central Asia'\n5. 'Eastern Africa'\n6. 'Eastern Asia'\n7. 'Eastern Europe'\n8. 'Melanesia'\n9. 'Micronesia'\n10. 'Middle Africa'\n11. 'Northern Africa'\n12. 'Northern America'\n13. 'Northern Europe'\n14. 'Polynesia'\n15. 'Russian Federation'\n16. 'South America'\n17. 'South-Eastern Asia'\n18. 'Southern Africa'\n19. 'Southern Asia'\n20. 'Southern Europe'\n21. 'Western Africa'\n22. 'Western Asia'\n23. 'Western Europe'\n\n\n",
            "text/html": [
              "<style>\n",
              ".list-inline {list-style: none; margin:0; padding: 0}\n",
              ".list-inline>li {display: inline-block}\n",
              ".list-inline>li:not(:last-child)::after {content: \"\\00b7\"; padding: 0 .5ex}\n",
              "</style>\n",
              "<ol class=list-inline><li>South America</li><li>Australia and New Zealand</li><li>Western Africa</li><li>Southern Asia</li><li>Caribbean</li><li>Southern Africa</li><li>Northern America</li><li>Western Europe</li><li>Eastern Asia</li><li>Central America</li><li>Western Asia</li><li>Eastern Africa</li><li>Eastern Europe</li><li>South-Eastern Asia</li><li>Middle Africa</li><li>Southern Europe</li><li>Melanesia</li><li>Northern Europe</li><li>Northern Africa</li><li>Micronesia</li><li>Polynesia</li><li>Russian Federation</li><li>Central Asia</li></ol>\n",
              "\n",
              "<details>\n",
              "\t<summary style=display:list-item;cursor:pointer>\n",
              "\t\t<strong>Levels</strong>:\n",
              "\t</summary>\n",
              "\t<style>\n",
              "\t.list-inline {list-style: none; margin:0; padding: 0}\n",
              "\t.list-inline>li {display: inline-block}\n",
              "\t.list-inline>li:not(:last-child)::after {content: \"\\00b7\"; padding: 0 .5ex}\n",
              "\t</style>\n",
              "\t<ol class=list-inline><li>'Australia and New Zealand'</li><li>'Caribbean'</li><li>'Central America'</li><li>'Central Asia'</li><li>'Eastern Africa'</li><li>'Eastern Asia'</li><li>'Eastern Europe'</li><li>'Melanesia'</li><li>'Micronesia'</li><li>'Middle Africa'</li><li>'Northern Africa'</li><li>'Northern America'</li><li>'Northern Europe'</li><li>'Polynesia'</li><li>'Russian Federation'</li><li>'South America'</li><li>'South-Eastern Asia'</li><li>'Southern Africa'</li><li>'Southern Asia'</li><li>'Southern Europe'</li><li>'Western Africa'</li><li>'Western Asia'</li><li>'Western Europe'</li></ol>\n",
              "</details>"
            ]
          },
          "metadata": {}
        },
        {
          "output_type": "display_data",
          "data": {
            "text/plain": [
              " [1] Flood                 Storm                 Drought              \n",
              " [4] Landslide             Earthquake            Epidemic             \n",
              " [7] Wildfire              Mass movement (dry)   Extreme temperature  \n",
              "[10] Volcanic activity     Insect infestation    Impact               \n",
              "[13] Animal accident       Glacial lake outburst\n",
              "14 Levels: Animal accident Drought Earthquake Epidemic ... Wildfire"
            ],
            "text/latex": "\\begin{enumerate*}\n\\item Flood\n\\item Storm\n\\item Drought\n\\item Landslide\n\\item Earthquake\n\\item Epidemic\n\\item Wildfire\n\\item Mass movement (dry)\n\\item Extreme temperature \n\\item Volcanic activity\n\\item Insect infestation\n\\item Impact\n\\item Animal accident\n\\item Glacial lake outburst\n\\end{enumerate*}\n\n\\emph{Levels}: \\begin{enumerate*}\n\\item 'Animal accident'\n\\item 'Drought'\n\\item 'Earthquake'\n\\item 'Epidemic'\n\\item 'Extreme temperature '\n\\item 'Flood'\n\\item 'Glacial lake outburst'\n\\item 'Impact'\n\\item 'Insect infestation'\n\\item 'Landslide'\n\\item 'Mass movement (dry)'\n\\item 'Storm'\n\\item 'Volcanic activity'\n\\item 'Wildfire'\n\\end{enumerate*}\n",
            "text/markdown": "1. Flood\n2. Storm\n3. Drought\n4. Landslide\n5. Earthquake\n6. Epidemic\n7. Wildfire\n8. Mass movement (dry)\n9. Extreme temperature \n10. Volcanic activity\n11. Insect infestation\n12. Impact\n13. Animal accident\n14. Glacial lake outburst\n\n\n\n**Levels**: 1. 'Animal accident'\n2. 'Drought'\n3. 'Earthquake'\n4. 'Epidemic'\n5. 'Extreme temperature '\n6. 'Flood'\n7. 'Glacial lake outburst'\n8. 'Impact'\n9. 'Insect infestation'\n10. 'Landslide'\n11. 'Mass movement (dry)'\n12. 'Storm'\n13. 'Volcanic activity'\n14. 'Wildfire'\n\n\n",
            "text/html": [
              "<style>\n",
              ".list-inline {list-style: none; margin:0; padding: 0}\n",
              ".list-inline>li {display: inline-block}\n",
              ".list-inline>li:not(:last-child)::after {content: \"\\00b7\"; padding: 0 .5ex}\n",
              "</style>\n",
              "<ol class=list-inline><li>Flood</li><li>Storm</li><li>Drought</li><li>Landslide</li><li>Earthquake</li><li>Epidemic</li><li>Wildfire</li><li>Mass movement (dry)</li><li>Extreme temperature </li><li>Volcanic activity</li><li>Insect infestation</li><li>Impact</li><li>Animal accident</li><li>Glacial lake outburst</li></ol>\n",
              "\n",
              "<details>\n",
              "\t<summary style=display:list-item;cursor:pointer>\n",
              "\t\t<strong>Levels</strong>:\n",
              "\t</summary>\n",
              "\t<style>\n",
              "\t.list-inline {list-style: none; margin:0; padding: 0}\n",
              "\t.list-inline>li {display: inline-block}\n",
              "\t.list-inline>li:not(:last-child)::after {content: \"\\00b7\"; padding: 0 .5ex}\n",
              "\t</style>\n",
              "\t<ol class=list-inline><li>'Animal accident'</li><li>'Drought'</li><li>'Earthquake'</li><li>'Epidemic'</li><li>'Extreme temperature '</li><li>'Flood'</li><li>'Glacial lake outburst'</li><li>'Impact'</li><li>'Insect infestation'</li><li>'Landslide'</li><li>'Mass movement (dry)'</li><li>'Storm'</li><li>'Volcanic activity'</li><li>'Wildfire'</li></ol>\n",
              "</details>"
            ]
          },
          "metadata": {}
        },
        {
          "output_type": "display_data",
          "data": {
            "text/plain": [
              "[1] Hydrological      Meteorological    Climatological    Geophysical      \n",
              "[5] Biological        Extra-terrestrial\n",
              "6 Levels: Biological Climatological Extra-terrestrial ... Meteorological"
            ],
            "text/latex": "\\begin{enumerate*}\n\\item Hydrological\n\\item Meteorological\n\\item Climatological\n\\item Geophysical\n\\item Biological\n\\item Extra-terrestrial\n\\end{enumerate*}\n\n\\emph{Levels}: \\begin{enumerate*}\n\\item 'Biological'\n\\item 'Climatological'\n\\item 'Extra-terrestrial'\n\\item 'Geophysical'\n\\item 'Hydrological'\n\\item 'Meteorological'\n\\end{enumerate*}\n",
            "text/markdown": "1. Hydrological\n2. Meteorological\n3. Climatological\n4. Geophysical\n5. Biological\n6. Extra-terrestrial\n\n\n\n**Levels**: 1. 'Biological'\n2. 'Climatological'\n3. 'Extra-terrestrial'\n4. 'Geophysical'\n5. 'Hydrological'\n6. 'Meteorological'\n\n\n",
            "text/html": [
              "<style>\n",
              ".list-inline {list-style: none; margin:0; padding: 0}\n",
              ".list-inline>li {display: inline-block}\n",
              ".list-inline>li:not(:last-child)::after {content: \"\\00b7\"; padding: 0 .5ex}\n",
              "</style>\n",
              "<ol class=list-inline><li>Hydrological</li><li>Meteorological</li><li>Climatological</li><li>Geophysical</li><li>Biological</li><li>Extra-terrestrial</li></ol>\n",
              "\n",
              "<details>\n",
              "\t<summary style=display:list-item;cursor:pointer>\n",
              "\t\t<strong>Levels</strong>:\n",
              "\t</summary>\n",
              "\t<style>\n",
              "\t.list-inline {list-style: none; margin:0; padding: 0}\n",
              "\t.list-inline>li {display: inline-block}\n",
              "\t.list-inline>li:not(:last-child)::after {content: \"\\00b7\"; padding: 0 .5ex}\n",
              "\t</style>\n",
              "\t<ol class=list-inline><li>'Biological'</li><li>'Climatological'</li><li>'Extra-terrestrial'</li><li>'Geophysical'</li><li>'Hydrological'</li><li>'Meteorological'</li></ol>\n",
              "</details>"
            ]
          },
          "metadata": {}
        }
      ]
    },
    {
      "cell_type": "code",
      "source": [
        "#Encoding factor variables \n",
        "install.packages('fastDummies')\n",
        "library(fastDummies)"
      ],
      "metadata": {
        "colab": {
          "base_uri": "https://localhost:8080/"
        },
        "id": "bby5NYBd6oGa",
        "outputId": "fe2dd258-2be6-4ade-b4a4-093be321dff3"
      },
      "execution_count": 164,
      "outputs": [
        {
          "output_type": "stream",
          "name": "stderr",
          "text": [
            "Installing package into ‘/usr/local/lib/R/site-library’\n",
            "(as ‘lib’ is unspecified)\n",
            "\n"
          ]
        }
      ]
    },
    {
      "cell_type": "code",
      "source": [
        "complete2 <- dummy_cols(complete2, select_columns = c('Country', 'Region', 'Disaster.Subgroup'),\n",
        "           remove_selected_columns = TRUE)"
      ],
      "metadata": {
        "id": "kqXQrKaj8ple"
      },
      "execution_count": 165,
      "outputs": []
    },
    {
      "cell_type": "code",
      "source": [
        "head(complete2)"
      ],
      "metadata": {
        "colab": {
          "base_uri": "https://localhost:8080/",
          "height": 323
        },
        "id": "TvX5PoME-S31",
        "outputId": "5ff3962b-9d12-4dc6-a1ec-355bd46fffc4"
      },
      "execution_count": 166,
      "outputs": [
        {
          "output_type": "display_data",
          "data": {
            "text/plain": [
              "  Disaster.Type Total.Deaths No.Injured No.Homeless Total.Affected\n",
              "1 Flood             36          200      26923           423      \n",
              "2 Storm             13            1        200         35020      \n",
              "3 Flood              9           26        826           450      \n",
              "4 Storm         300000         5933     300000       3648000      \n",
              "5 Storm             17           12         75           110      \n",
              "6 Flood           6908       155715     125000      10000000      \n",
              "  Total.Damages...000.US.. Reconstruction.Costs...000.US..\n",
              "1  25000                    194000                        \n",
              "2  72475                      1510                        \n",
              "3    200                    150000                        \n",
              "4  86400                    194000                        \n",
              "5 210000                    194000                        \n",
              "6  25000                   9450000                        \n",
              "  Insured.Damages...000.US.. Country_Afghanistan Country_Albania ⋯\n",
              "1  10000                     0                   0               ⋯\n",
              "2  60000                     0                   0               ⋯\n",
              "3  60000                     0                   0               ⋯\n",
              "4 115000                     0                   0               ⋯\n",
              "5 200500                     0                   0               ⋯\n",
              "6 400000                     0                   0               ⋯\n",
              "  Region_Southern Europe Region_Western Africa Region_Western Asia\n",
              "1 0                      0                     0                  \n",
              "2 0                      0                     0                  \n",
              "3 0                      1                     0                  \n",
              "4 0                      0                     0                  \n",
              "5 0                      0                     0                  \n",
              "6 0                      0                     0                  \n",
              "  Region_Western Europe Disaster.Subgroup_Biological\n",
              "1 0                     0                           \n",
              "2 0                     0                           \n",
              "3 0                     0                           \n",
              "4 0                     0                           \n",
              "5 0                     0                           \n",
              "6 0                     0                           \n",
              "  Disaster.Subgroup_Climatological Disaster.Subgroup_Extra-terrestrial\n",
              "1 0                                0                                  \n",
              "2 0                                0                                  \n",
              "3 0                                0                                  \n",
              "4 0                                0                                  \n",
              "5 0                                0                                  \n",
              "6 0                                0                                  \n",
              "  Disaster.Subgroup_Geophysical Disaster.Subgroup_Hydrological\n",
              "1 0                             1                             \n",
              "2 0                             0                             \n",
              "3 0                             1                             \n",
              "4 0                             0                             \n",
              "5 0                             0                             \n",
              "6 0                             1                             \n",
              "  Disaster.Subgroup_Meteorological\n",
              "1 0                               \n",
              "2 1                               \n",
              "3 0                               \n",
              "4 1                               \n",
              "5 1                               \n",
              "6 0                               "
            ],
            "text/latex": "A data.frame: 6 × 265\n\\begin{tabular}{r|lllllllllllllllllllll}\n  & Disaster.Type & Total.Deaths & No.Injured & No.Homeless & Total.Affected & Total.Damages...000.US.. & Reconstruction.Costs...000.US.. & Insured.Damages...000.US.. & Country\\_Afghanistan & Country\\_Albania & ⋯ & Region\\_Southern Europe & Region\\_Western Africa & Region\\_Western Asia & Region\\_Western Europe & Disaster.Subgroup\\_Biological & Disaster.Subgroup\\_Climatological & Disaster.Subgroup\\_Extra-terrestrial & Disaster.Subgroup\\_Geophysical & Disaster.Subgroup\\_Hydrological & Disaster.Subgroup\\_Meteorological\\\\\n  & <fct> & <int> & <int> & <int> & <int> & <int> & <int> & <int> & <int> & <int> & ⋯ & <int> & <int> & <int> & <int> & <int> & <int> & <int> & <int> & <int> & <int>\\\\\n\\hline\n\t1 & Flood &     36 &    200 &  26923 &      423 &  25000 &  194000 &  10000 & 0 & 0 & ⋯ & 0 & 0 & 0 & 0 & 0 & 0 & 0 & 0 & 1 & 0\\\\\n\t2 & Storm &     13 &      1 &    200 &    35020 &  72475 &    1510 &  60000 & 0 & 0 & ⋯ & 0 & 0 & 0 & 0 & 0 & 0 & 0 & 0 & 0 & 1\\\\\n\t3 & Flood &      9 &     26 &    826 &      450 &    200 &  150000 &  60000 & 0 & 0 & ⋯ & 0 & 1 & 0 & 0 & 0 & 0 & 0 & 0 & 1 & 0\\\\\n\t4 & Storm & 300000 &   5933 & 300000 &  3648000 &  86400 &  194000 & 115000 & 0 & 0 & ⋯ & 0 & 0 & 0 & 0 & 0 & 0 & 0 & 0 & 0 & 1\\\\\n\t5 & Storm &     17 &     12 &     75 &      110 & 210000 &  194000 & 200500 & 0 & 0 & ⋯ & 0 & 0 & 0 & 0 & 0 & 0 & 0 & 0 & 0 & 1\\\\\n\t6 & Flood &   6908 & 155715 & 125000 & 10000000 &  25000 & 9450000 & 400000 & 0 & 0 & ⋯ & 0 & 0 & 0 & 0 & 0 & 0 & 0 & 0 & 1 & 0\\\\\n\\end{tabular}\n",
            "text/markdown": "\nA data.frame: 6 × 265\n\n| <!--/--> | Disaster.Type &lt;fct&gt; | Total.Deaths &lt;int&gt; | No.Injured &lt;int&gt; | No.Homeless &lt;int&gt; | Total.Affected &lt;int&gt; | Total.Damages...000.US.. &lt;int&gt; | Reconstruction.Costs...000.US.. &lt;int&gt; | Insured.Damages...000.US.. &lt;int&gt; | Country_Afghanistan &lt;int&gt; | Country_Albania &lt;int&gt; | ⋯ ⋯ | Region_Southern Europe &lt;int&gt; | Region_Western Africa &lt;int&gt; | Region_Western Asia &lt;int&gt; | Region_Western Europe &lt;int&gt; | Disaster.Subgroup_Biological &lt;int&gt; | Disaster.Subgroup_Climatological &lt;int&gt; | Disaster.Subgroup_Extra-terrestrial &lt;int&gt; | Disaster.Subgroup_Geophysical &lt;int&gt; | Disaster.Subgroup_Hydrological &lt;int&gt; | Disaster.Subgroup_Meteorological &lt;int&gt; |\n|---|---|---|---|---|---|---|---|---|---|---|---|---|---|---|---|---|---|---|---|---|---|\n| 1 | Flood |     36 |    200 |  26923 |      423 |  25000 |  194000 |  10000 | 0 | 0 | ⋯ | 0 | 0 | 0 | 0 | 0 | 0 | 0 | 0 | 1 | 0 |\n| 2 | Storm |     13 |      1 |    200 |    35020 |  72475 |    1510 |  60000 | 0 | 0 | ⋯ | 0 | 0 | 0 | 0 | 0 | 0 | 0 | 0 | 0 | 1 |\n| 3 | Flood |      9 |     26 |    826 |      450 |    200 |  150000 |  60000 | 0 | 0 | ⋯ | 0 | 1 | 0 | 0 | 0 | 0 | 0 | 0 | 1 | 0 |\n| 4 | Storm | 300000 |   5933 | 300000 |  3648000 |  86400 |  194000 | 115000 | 0 | 0 | ⋯ | 0 | 0 | 0 | 0 | 0 | 0 | 0 | 0 | 0 | 1 |\n| 5 | Storm |     17 |     12 |     75 |      110 | 210000 |  194000 | 200500 | 0 | 0 | ⋯ | 0 | 0 | 0 | 0 | 0 | 0 | 0 | 0 | 0 | 1 |\n| 6 | Flood |   6908 | 155715 | 125000 | 10000000 |  25000 | 9450000 | 400000 | 0 | 0 | ⋯ | 0 | 0 | 0 | 0 | 0 | 0 | 0 | 0 | 1 | 0 |\n\n",
            "text/html": [
              "<table class=\"dataframe\">\n",
              "<caption>A data.frame: 6 × 265</caption>\n",
              "<thead>\n",
              "\t<tr><th></th><th scope=col>Disaster.Type</th><th scope=col>Total.Deaths</th><th scope=col>No.Injured</th><th scope=col>No.Homeless</th><th scope=col>Total.Affected</th><th scope=col>Total.Damages...000.US..</th><th scope=col>Reconstruction.Costs...000.US..</th><th scope=col>Insured.Damages...000.US..</th><th scope=col>Country_Afghanistan</th><th scope=col>Country_Albania</th><th scope=col>⋯</th><th scope=col>Region_Southern Europe</th><th scope=col>Region_Western Africa</th><th scope=col>Region_Western Asia</th><th scope=col>Region_Western Europe</th><th scope=col>Disaster.Subgroup_Biological</th><th scope=col>Disaster.Subgroup_Climatological</th><th scope=col>Disaster.Subgroup_Extra-terrestrial</th><th scope=col>Disaster.Subgroup_Geophysical</th><th scope=col>Disaster.Subgroup_Hydrological</th><th scope=col>Disaster.Subgroup_Meteorological</th></tr>\n",
              "\t<tr><th></th><th scope=col>&lt;fct&gt;</th><th scope=col>&lt;int&gt;</th><th scope=col>&lt;int&gt;</th><th scope=col>&lt;int&gt;</th><th scope=col>&lt;int&gt;</th><th scope=col>&lt;int&gt;</th><th scope=col>&lt;int&gt;</th><th scope=col>&lt;int&gt;</th><th scope=col>&lt;int&gt;</th><th scope=col>&lt;int&gt;</th><th scope=col>⋯</th><th scope=col>&lt;int&gt;</th><th scope=col>&lt;int&gt;</th><th scope=col>&lt;int&gt;</th><th scope=col>&lt;int&gt;</th><th scope=col>&lt;int&gt;</th><th scope=col>&lt;int&gt;</th><th scope=col>&lt;int&gt;</th><th scope=col>&lt;int&gt;</th><th scope=col>&lt;int&gt;</th><th scope=col>&lt;int&gt;</th></tr>\n",
              "</thead>\n",
              "<tbody>\n",
              "\t<tr><th scope=row>1</th><td>Flood</td><td>    36</td><td>   200</td><td> 26923</td><td>     423</td><td> 25000</td><td> 194000</td><td> 10000</td><td>0</td><td>0</td><td>⋯</td><td>0</td><td>0</td><td>0</td><td>0</td><td>0</td><td>0</td><td>0</td><td>0</td><td>1</td><td>0</td></tr>\n",
              "\t<tr><th scope=row>2</th><td>Storm</td><td>    13</td><td>     1</td><td>   200</td><td>   35020</td><td> 72475</td><td>   1510</td><td> 60000</td><td>0</td><td>0</td><td>⋯</td><td>0</td><td>0</td><td>0</td><td>0</td><td>0</td><td>0</td><td>0</td><td>0</td><td>0</td><td>1</td></tr>\n",
              "\t<tr><th scope=row>3</th><td>Flood</td><td>     9</td><td>    26</td><td>   826</td><td>     450</td><td>   200</td><td> 150000</td><td> 60000</td><td>0</td><td>0</td><td>⋯</td><td>0</td><td>1</td><td>0</td><td>0</td><td>0</td><td>0</td><td>0</td><td>0</td><td>1</td><td>0</td></tr>\n",
              "\t<tr><th scope=row>4</th><td>Storm</td><td>300000</td><td>  5933</td><td>300000</td><td> 3648000</td><td> 86400</td><td> 194000</td><td>115000</td><td>0</td><td>0</td><td>⋯</td><td>0</td><td>0</td><td>0</td><td>0</td><td>0</td><td>0</td><td>0</td><td>0</td><td>0</td><td>1</td></tr>\n",
              "\t<tr><th scope=row>5</th><td>Storm</td><td>    17</td><td>    12</td><td>    75</td><td>     110</td><td>210000</td><td> 194000</td><td>200500</td><td>0</td><td>0</td><td>⋯</td><td>0</td><td>0</td><td>0</td><td>0</td><td>0</td><td>0</td><td>0</td><td>0</td><td>0</td><td>1</td></tr>\n",
              "\t<tr><th scope=row>6</th><td>Flood</td><td>  6908</td><td>155715</td><td>125000</td><td>10000000</td><td> 25000</td><td>9450000</td><td>400000</td><td>0</td><td>0</td><td>⋯</td><td>0</td><td>0</td><td>0</td><td>0</td><td>0</td><td>0</td><td>0</td><td>0</td><td>1</td><td>0</td></tr>\n",
              "</tbody>\n",
              "</table>\n"
            ]
          },
          "metadata": {}
        }
      ]
    },
    {
      "cell_type": "code",
      "source": [
        "train_index <- sample(1:nrow(complete2), 0.7 * nrow(complete2))\n",
        "train.set <- complete2[train_index,]\n",
        "test.set  <- complete2[-train_index,]\n",
        "train.set_new <- train.set[-1]\n",
        "test.set_new <- test.set[-1]\n",
        "cl <- train.set\n",
        "## ^^^ Removed Disaster type "
      ],
      "metadata": {
        "id": "sX1zXZVG1WPl"
      },
      "execution_count": 171,
      "outputs": []
    },
    {
      "cell_type": "code",
      "source": [
        "dis_train_labels <- train.set$Disaster.Type\n",
        "dis_test_labels <- test.set$Disaster.Type\n",
        "cl <- dis_train_labels\n",
        "## ^^^ Disaster type is the label now"
      ],
      "metadata": {
        "id": "CoGBdFyy1yc-"
      },
      "execution_count": 172,
      "outputs": []
    },
    {
      "cell_type": "code",
      "source": [
        "dim(train.set)\n",
        "dim(test.set)\n",
        "dim(train.set_new)\n",
        "dim(test.set_new)\n",
        "dim(cl)\n",
        "cl$"
      ],
      "metadata": {
        "colab": {
          "base_uri": "https://localhost:8080/",
          "height": 104
        },
        "id": "LddN28AX-j_o",
        "outputId": "b16f9ea9-404c-4dea-9abb-9601d0138d9f"
      },
      "execution_count": 173,
      "outputs": [
        {
          "output_type": "display_data",
          "data": {
            "text/plain": [
              "[1] 10250   265"
            ],
            "text/latex": "\\begin{enumerate*}\n\\item 10250\n\\item 265\n\\end{enumerate*}\n",
            "text/markdown": "1. 10250\n2. 265\n\n\n",
            "text/html": [
              "<style>\n",
              ".list-inline {list-style: none; margin:0; padding: 0}\n",
              ".list-inline>li {display: inline-block}\n",
              ".list-inline>li:not(:last-child)::after {content: \"\\00b7\"; padding: 0 .5ex}\n",
              "</style>\n",
              "<ol class=list-inline><li>10250</li><li>265</li></ol>\n"
            ]
          },
          "metadata": {}
        },
        {
          "output_type": "display_data",
          "data": {
            "text/plain": [
              "[1] 4394  265"
            ],
            "text/latex": "\\begin{enumerate*}\n\\item 4394\n\\item 265\n\\end{enumerate*}\n",
            "text/markdown": "1. 4394\n2. 265\n\n\n",
            "text/html": [
              "<style>\n",
              ".list-inline {list-style: none; margin:0; padding: 0}\n",
              ".list-inline>li {display: inline-block}\n",
              ".list-inline>li:not(:last-child)::after {content: \"\\00b7\"; padding: 0 .5ex}\n",
              "</style>\n",
              "<ol class=list-inline><li>4394</li><li>265</li></ol>\n"
            ]
          },
          "metadata": {}
        },
        {
          "output_type": "display_data",
          "data": {
            "text/plain": [
              "[1] 10250   264"
            ],
            "text/latex": "\\begin{enumerate*}\n\\item 10250\n\\item 264\n\\end{enumerate*}\n",
            "text/markdown": "1. 10250\n2. 264\n\n\n",
            "text/html": [
              "<style>\n",
              ".list-inline {list-style: none; margin:0; padding: 0}\n",
              ".list-inline>li {display: inline-block}\n",
              ".list-inline>li:not(:last-child)::after {content: \"\\00b7\"; padding: 0 .5ex}\n",
              "</style>\n",
              "<ol class=list-inline><li>10250</li><li>264</li></ol>\n"
            ]
          },
          "metadata": {}
        },
        {
          "output_type": "display_data",
          "data": {
            "text/plain": [
              "[1] 4394  264"
            ],
            "text/latex": "\\begin{enumerate*}\n\\item 4394\n\\item 264\n\\end{enumerate*}\n",
            "text/markdown": "1. 4394\n2. 264\n\n\n",
            "text/html": [
              "<style>\n",
              ".list-inline {list-style: none; margin:0; padding: 0}\n",
              ".list-inline>li {display: inline-block}\n",
              ".list-inline>li:not(:last-child)::after {content: \"\\00b7\"; padding: 0 .5ex}\n",
              "</style>\n",
              "<ol class=list-inline><li>4394</li><li>264</li></ol>\n"
            ]
          },
          "metadata": {}
        },
        {
          "output_type": "display_data",
          "data": {
            "text/plain": [
              "NULL"
            ]
          },
          "metadata": {}
        }
      ]
    },
    {
      "cell_type": "code",
      "source": [
        "library(class)\n",
        "suppressWarnings(dis_knn_prediction <- knn(train = train.set_new, test = test.set_new, cl= dis_train_labels, k = ))\n",
        "#k=4\n",
        "head(dis_knn_prediction)\n",
        "\n",
        "##K=4 predictcs storms more than any other natural disaster "
      ],
      "metadata": {
        "colab": {
          "base_uri": "https://localhost:8080/",
          "height": 86
        },
        "id": "VABkHp8X15Tf",
        "outputId": "7a9eda77-8f07-48b8-a65b-59a215aa1531"
      },
      "execution_count": 189,
      "outputs": [
        {
          "output_type": "display_data",
          "data": {
            "text/plain": [
              "[1] Storm    Flood    Epidemic Storm    Flood    Storm   \n",
              "14 Levels: Animal accident Drought Earthquake Epidemic ... Wildfire"
            ],
            "text/latex": "\\begin{enumerate*}\n\\item Storm\n\\item Flood\n\\item Epidemic\n\\item Storm\n\\item Flood\n\\item Storm\n\\end{enumerate*}\n\n\\emph{Levels}: \\begin{enumerate*}\n\\item 'Animal accident'\n\\item 'Drought'\n\\item 'Earthquake'\n\\item 'Epidemic'\n\\item 'Extreme temperature '\n\\item 'Flood'\n\\item 'Glacial lake outburst'\n\\item 'Impact'\n\\item 'Insect infestation'\n\\item 'Landslide'\n\\item 'Mass movement (dry)'\n\\item 'Storm'\n\\item 'Volcanic activity'\n\\item 'Wildfire'\n\\end{enumerate*}\n",
            "text/markdown": "1. Storm\n2. Flood\n3. Epidemic\n4. Storm\n5. Flood\n6. Storm\n\n\n\n**Levels**: 1. 'Animal accident'\n2. 'Drought'\n3. 'Earthquake'\n4. 'Epidemic'\n5. 'Extreme temperature '\n6. 'Flood'\n7. 'Glacial lake outburst'\n8. 'Impact'\n9. 'Insect infestation'\n10. 'Landslide'\n11. 'Mass movement (dry)'\n12. 'Storm'\n13. 'Volcanic activity'\n14. 'Wildfire'\n\n\n",
            "text/html": [
              "<style>\n",
              ".list-inline {list-style: none; margin:0; padding: 0}\n",
              ".list-inline>li {display: inline-block}\n",
              ".list-inline>li:not(:last-child)::after {content: \"\\00b7\"; padding: 0 .5ex}\n",
              "</style>\n",
              "<ol class=list-inline><li>Storm</li><li>Flood</li><li>Epidemic</li><li>Storm</li><li>Flood</li><li>Storm</li></ol>\n",
              "\n",
              "<details>\n",
              "\t<summary style=display:list-item;cursor:pointer>\n",
              "\t\t<strong>Levels</strong>:\n",
              "\t</summary>\n",
              "\t<style>\n",
              "\t.list-inline {list-style: none; margin:0; padding: 0}\n",
              "\t.list-inline>li {display: inline-block}\n",
              "\t.list-inline>li:not(:last-child)::after {content: \"\\00b7\"; padding: 0 .5ex}\n",
              "\t</style>\n",
              "\t<ol class=list-inline><li>'Animal accident'</li><li>'Drought'</li><li>'Earthquake'</li><li>'Epidemic'</li><li>'Extreme temperature '</li><li>'Flood'</li><li>'Glacial lake outburst'</li><li>'Impact'</li><li>'Insect infestation'</li><li>'Landslide'</li><li>'Mass movement (dry)'</li><li>'Storm'</li><li>'Volcanic activity'</li><li>'Wildfire'</li></ol>\n",
              "</details>"
            ]
          },
          "metadata": {}
        }
      ]
    },
    {
      "cell_type": "code",
      "source": [
        "install.packages(\"ISLR\")\n",
        "install.packages(\"caret\")\n",
        "library(ISLR)\n",
        "library(caret)"
      ],
      "metadata": {
        "colab": {
          "base_uri": "https://localhost:8080/"
        },
        "id": "C6qkMPYS15Pg",
        "outputId": "11b6797d-286e-417f-c236-3305af03d8d3"
      },
      "execution_count": 194,
      "outputs": [
        {
          "output_type": "stream",
          "name": "stderr",
          "text": [
            "Installing package into ‘/usr/local/lib/R/site-library’\n",
            "(as ‘lib’ is unspecified)\n",
            "\n",
            "Installing package into ‘/usr/local/lib/R/site-library’\n",
            "(as ‘lib’ is unspecified)\n",
            "\n"
          ]
        }
      ]
    },
    {
      "cell_type": "code",
      "source": [
        "confusionMatrix(dis_knn_prediction, cl)"
      ],
      "metadata": {
        "colab": {
          "base_uri": "https://localhost:8080/",
          "height": 186
        },
        "id": "159o5JXLOfeb",
        "outputId": "d777e488-39d8-425f-f74b-2010004cebec"
      },
      "execution_count": 199,
      "outputs": [
        {
          "output_type": "error",
          "ename": "ERROR",
          "evalue": "ignored",
          "traceback": [
            "Error in table(data, reference, dnn = dnn, ...): all arguments must have the same length\nTraceback:\n",
            "1. confusionMatrix(dis_knn_prediction, cl)",
            "2. confusionMatrix.default(dis_knn_prediction, cl)",
            "3. table(data, reference, dnn = dnn, ...)",
            "4. stop(\"all arguments must have the same length\")"
          ]
        }
      ]
    }
  ]
}